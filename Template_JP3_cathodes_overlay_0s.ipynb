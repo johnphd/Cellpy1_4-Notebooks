{
 "cells": [
  {
   "cell_type": "markdown",
   "metadata": {},
   "source": [
    "### This is a manual loader for almost any cell"
   ]
  },
  {
   "cell_type": "markdown",
   "metadata": {
    "toc-hr-collapsed": true,
    "toc-nb-collapsed": true
   },
   "source": [
    "**Experimental-id:** Post mortem analysis\n",
    "**Short-name:** `Sample batch name here`  \n",
    "**Project:** All \n",
    "**By:** `John Ostrander`   \n",
    "**Date:** `2023-01-14`  "
   ]
  },
  {
   "cell_type": "markdown",
   "metadata": {},
   "source": [
    "## 1. Setting up everything.   This is Template file and should be used for future pages."
   ]
  },
  {
   "cell_type": "markdown",
   "metadata": {},
   "source": [
    "###  List of samples Remarked samples are bad/bad data\n",
    "\n",
    "CELL DATA THAT IS BAD (in red) FOR SOME REASON should be redundantly marked in spreadsheet, loader, and GITT exporter.\n",
    "| updated 3.12.2023| 2 | cells in this page | \n",
    "|---  | --- | --- | \n",
    "| <p style=\"color:#FF0000\">bad sample </op>  |  Sample_1 | Sample2  |   \n",
    "|  Sample_3 |  and so on.... |   |\n",
    "\n",
    "This template contains code which extracts capacity data from the capacity vs. voltage plots.\n",
    "\n"
   ]
  },
  {
   "cell_type": "markdown",
   "metadata": {},
   "source": [
    "### Import everything you will use in this first cell (quicker)\n",
    "Note! This template was made for `cellpy` version 0.4.1.a3"
   ]
  },
  {
   "cell_type": "code",
   "execution_count": null,
   "metadata": {},
   "outputs": [],
   "source": [
    "import sys\n",
    "import cellpy\n",
    "from pathlib import Path\n",
    "\n",
    "import numpy as np\n",
    "import pandas as pd\n",
    "import matplotlib.pyplot as plt\n",
    "import matplotlib.cm as cm\n",
    "import os\n",
    "\n",
    "from cellpy import prms\n",
    "from cellpy import prmreader\n",
    "from cellpy.utils import batch, plotutils\n",
    "from IPython.display import display, Markdown\n",
    "\n",
    "%matplotlib inline\n",
    "print(f\"cellpy version: {cellpy.__version__}\")"
   ]
  },
  {
   "cell_type": "code",
   "execution_count": null,
   "metadata": {},
   "outputs": [],
   "source": [
    "#  cell_labels     #  This is after you load the cells, otherwise you get an error"
   ]
  },
  {
   "cell_type": "markdown",
   "metadata": {},
   "source": [
    "## Listing all files"
   ]
  },
  {
   "cell_type": "code",
   "execution_count": null,
   "metadata": {},
   "outputs": [],
   "source": [
    "path0=r'c:\\scripting\\cellpy_data\\Raw'           #  This indicates the path for data files.  this is my path, replace it with yours\n",
    "path_obj = Path(path0)\n",
    "\n",
    "file_path01=r\"C:\\path01\\\"                       #  When exporting graphs, these two directors will contain the exported files\n",
    "file_path02= r\"C:\\path02\\\"\n"
   ]
  },
  {
   "cell_type": "markdown",
   "metadata": {},
   "source": [
    "### Creating pages and initialise the cellpy batch object\n",
    "If you need to create Journal Pages, please provide appropriate names for the project and the experiment to allow `cellpy` to build the pages."
   ]
  },
  {
   "cell_type": "code",
   "execution_count": null,
   "metadata": {},
   "outputs": [],
   "source": [
    "# Parameters for the batch\n",
    "project = \"Name_of_project\"                     #  This is for purposes of labels in the dataframe\n",
    "name = \"experiment_name(s)\"\n",
    "\n",
    "# this is the name of the batch file as well\n",
    "batch_col = \"b03\"                               # This is residue from the auto-loader.  It doesn't do anything, but the loader will not work properly without it.\n",
    "\n"
   ]
  },
  {
   "cell_type": "code",
   "execution_count": null,
   "metadata": {},
   "outputs": [],
   "source": [
    "b = batch.init(name, project, batch_col=batch_col, db_reader=None)  # Note! db_reader= None is necessary to use the manual loader"
   ]
  },
  {
   "cell_type": "markdown",
   "metadata": {},
   "source": [
    "### Set optional parameters\n",
    "You should set overall parameters before creating the journal and lodaing the data. The most common ones are given below (uncomment what you need)."
   ]
  },
  {
   "cell_type": "code",
   "execution_count": null,
   "metadata": {},
   "outputs": [],
   "source": [
    "## Setting some prms if default values are not OK for you\n",
    "# b.experiment.nom_cap = 372.0\n",
    "b.experiment.export_raw = False\n",
    "b.experiment.export_cycles = False\n",
    "b.experiment.export_ica = False\n",
    "# b.experiment.force_cellpy = True  # force to select the cellpy-files\n",
    "# b.experiment.force_raw = True  # force to select the raw files\n",
    "# b.experiment.all_in_memory = True  # store all data in memory, defaults to False\n",
    "# b.save_cellpy = False  # prevent saving the generated cellpy-files \n",
    "# b.last_cycle = 1000  # only load max 1000 cycles"
   ]
  },
  {
   "cell_type": "markdown",
   "metadata": {},
   "source": [
    "## Manually making the journal pages\n",
    "This was used because the typical cellpy install did not work.  it has more flexibility however."
   ]
  },
  {
   "cell_type": "code",
   "execution_count": null,
   "metadata": {},
   "outputs": [],
   "source": [
    "b.create_journal()"
   ]
  },
  {
   "cell_type": "code",
   "execution_count": null,
   "metadata": {},
   "outputs": [],
   "source": [
    "b.pages = b.experiment.journal.create_empty_pages()"
   ]
  },
  {
   "cell_type": "code",
   "execution_count": null,
   "metadata": {},
   "outputs": [],
   "source": [
    "b.pages         #  This should generate an empty table with column headers"
   ]
  },
  {
   "cell_type": "code",
   "execution_count": null,
   "metadata": {},
   "outputs": [],
   "source": [
    "# copy pages and transpose (need to transpose to add a list)\n",
    "temporary_pages = b.pages.copy().T\n",
    "\n"
   ]
  },
  {
   "cell_type": "markdown",
   "metadata": {},
   "source": [
    "SAMPLEs"
   ]
  },
  {
   "cell_type": "code",
   "execution_count": null,
   "metadata": {},
   "outputs": [],
   "source": [
    "battery01=\"file_name01\"         #  This is the base filename as in cellpy, wihtout numeric or file extensions\n",
    "full_paths_01 = [               #  Each of these lists concantenates each series of data files for each sample\n",
    "    r\"path\\file_nam01_01.res\",\n",
    "    r\"path\\file_nam01_02.res\",\n",
    "    r\"path\\file_nam01_03.res\"\n",
    "\n",
    "]\n",
    "\n"
   ]
  },
  {
   "cell_type": "code",
   "execution_count": null,
   "metadata": {},
   "outputs": [],
   "source": [
    "battery02=\"file_nam02\"      \n",
    "full_paths_02 = [\n",
    "     r\"path\\file_nam02_01.res\",\n",
    "     r\"path\\file_nam0202.res\",\n",
    "     r\"path\\file_nam02_03.res\"\n",
    "\n",
    "]\n",
    "\n",
    "   \n"
   ]
  },
  {
   "cell_type": "code",
   "execution_count": null,
   "metadata": {},
   "outputs": [],
   "source": [
    "battery03=\"file_nam03\"\n",
    "full_paths_03 = [\n",
    "     r\"path\\file_nam03\",\n",
    "     r\"path\\file_nam03\"      \n",
    "    ]\n",
    "\n"
   ]
  },
  {
   "cell_type": "markdown",
   "metadata": {},
   "source": [
    "### Set values for your electrodes\n"
   ]
  },
  {
   "cell_type": "code",
   "execution_count": null,
   "metadata": {},
   "outputs": [],
   "source": [
    "area = 1.767\n",
    "nmc_cathode     =150                    #(mAh/g)  This is for LG series commercial batteries\n",
    "graphite_anode  =350                    #  You can add additional materials and values, but need \n",
    "                                        # to remember to include those in the following cells too.  "
   ]
  },
  {
   "cell_type": "code",
   "execution_count": null,
   "metadata": {},
   "outputs": [],
   "source": [
    "#  Cell 1  #  file_name01, these are notes for reference.  Helps keep it all organized.\n",
    "total_mass01    = 30.55                 #(mg of materials)\n",
    "Capacity01      = nmc_cathode           # this identifies the material used and simplifies the rest of the code\n",
    "\n",
    "#  Cell 2   # file_name01\n",
    "total_mass02    = 27.98                 #(mg of materials)\n",
    "Capacity02      = nmc_cathode           # (mAh/g)\n",
    "\n",
    "#  Cell 3  # file_name01\n",
    "total_mass03    = 30.050                # (mg of materials)\n",
    "Capacity03      = nmc_cathode           # (mAh/g)"
   ]
  },
  {
   "cell_type": "markdown",
   "metadata": {},
   "source": [
    "### Script that does not need to be changed"
   ]
  },
  {
   "cell_type": "code",
   "execution_count": null,
   "metadata": {},
   "outputs": [],
   "source": [
    "# Automatically generated values (1 of 2)  This code authomatically distiguishes anode and cathode based on previous entry\n",
    "#  Cell 1\n",
    "if Capacity01 == graphite_anode:\n",
    "    electrode01 = \"anode\"\n",
    "elif Capacity01 == nmc_cathode:\n",
    "    electrode01 = \"cathode\"\n",
    "else:\n",
    "    # Handle the case when Capacity01 is neither graphite_anode nor nmc_cathode\n",
    "    # You can raise an error or set a default value, depending on your needs\n",
    "    raise ValueError(\"Invalid value for Capacity01: \" + str(Capacity01))\n",
    "\n",
    "# Now, you can manually set Capacity01 and have electrode01 automatically generated.\n",
    "# Check the value of electrode and set Capacity02 accordingly\n",
    "# cell 2\n",
    "if Capacity02 == graphite_anode:\n",
    "    electrode02 = \"anode\"\n",
    "elif Capacity02 == nmc_cathode:\n",
    "    electrode02 = \"cathode\"\n",
    "else:\n",
    "    raise ValueError(\"Invalid value for Capacity02: \" + str(Capacity02))\n",
    "\n",
    "#  Cell 3\n",
    "if Capacity03 == graphite_anode:\n",
    "    electrode03 = \"anode\"\n",
    "elif Capacity03 == nmc_cathode:\n",
    "    electrode03 = \"cathode\"\n",
    "else:\n",
    "    raise ValueError(\"Invalid value for Capacity03: \" + str(Capacity03))\n",
    "\n",
    "#   More code can be added.   This template was comparing three cells."
   ]
  },
  {
   "cell_type": "code",
   "execution_count": null,
   "metadata": {},
   "outputs": [],
   "source": [
    "# For my samples these were 10% inactive. This should be changed for samples that are a different percentage\n",
    "# It should be pointed out there is only one active material in these electrodes, may not be suitable for hybrid\n",
    "# materials.   However, the percent active material is easily changed.\n",
    "\n",
    "#  Cell 1\n",
    "mass01          = 0.9*total_mass01        #(mg of active material only)                                             \n",
    "loading01       = mass01/(area)          # (mg/cm^2) == areal densisity\n",
    "\n",
    "#  Cell 2\n",
    "mass02          = 0.9*total_mass02           \n",
    "loading02       = mass02/(area)          \n",
    "\n",
    "#  Cell 3\n",
    "mass03          = 0.9*total_mass03      \n",
    "loading03       = mass03/(area)        "
   ]
  },
  {
   "cell_type": "markdown",
   "metadata": {},
   "source": [
    "Continuing....."
   ]
  },
  {
   "cell_type": "code",
   "execution_count": null,
   "metadata": {},
   "outputs": [],
   "source": [
    "# manually create a list for each cell.  Thid code does not need to be changed.\n",
    "\n",
    "cell01 = [mass01, total_mass01,loading01, Capacity01, None, False, \"battery01\", \"anode\", \"arbin_res\", full_paths_01, battery01+\".h5\", 1, 1, None, None]\n",
    "\n",
    "cell02 = [mass02, total_mass02, loading02, Capacity02, None, False, \"battery02\", \"anode\", \"arbin_res\", full_paths_02, battery02+\".h5\", 2, 1, None, None]\n",
    "\n",
    "cell03 = [mass03, total_mass03, loading03, Capacity03, None, False, \"battery03\", \"anode\", \"arbin_res\", full_paths_03, battery03+\".h5\", 3, 1, None, None]\n",
    "\n",
    "\n",
    "\n"
   ]
  },
  {
   "cell_type": "code",
   "execution_count": null,
   "metadata": {},
   "outputs": [],
   "source": [
    "# add each list to the temporary dataframe (temporary pages)\n",
    "temporary_pages[(battery01)] = cell01\n",
    "temporary_pages[(battery02)] = cell02\n",
    "temporary_pages[(battery03)] = cell03\n",
    "\n"
   ]
  },
  {
   "cell_type": "code",
   "execution_count": null,
   "metadata": {},
   "outputs": [],
   "source": [
    "# transpose to proper format and assign to your journal\n",
    "b.pages = temporary_pages.T\n"
   ]
  },
  {
   "cell_type": "code",
   "execution_count": null,
   "metadata": {},
   "outputs": [],
   "source": [
    "b.pages         # this will generate a list as before, but will be filled in with sample data for verification."
   ]
  },
  {
   "cell_type": "markdown",
   "metadata": {},
   "source": [
    "### Create the journal and appropriate folder structure\n"
   ]
  },
  {
   "cell_type": "code",
   "execution_count": null,
   "metadata": {},
   "outputs": [],
   "source": [
    "b.paginate()                                # Create the apropriate folders"
   ]
  },
  {
   "cell_type": "code",
   "execution_count": null,
   "metadata": {},
   "outputs": [],
   "source": [
    "b.save_journal()                            # save the journal file"
   ]
  },
  {
   "cell_type": "markdown",
   "metadata": {},
   "source": [
    "### Make sure one more time that working directory is correct "
   ]
  },
  {
   "cell_type": "code",
   "execution_count": null,
   "metadata": {},
   "outputs": [],
   "source": [
    "# b.pages                                     # Show the journal pages"
   ]
  },
  {
   "cell_type": "code",
   "execution_count": null,
   "metadata": {},
   "outputs": [],
   "source": [
    "b.duplicate_journal()                         "
   ]
  },
  {
   "cell_type": "markdown",
   "metadata": {},
   "source": [
    "## 2. Loading data"
   ]
  },
  {
   "cell_type": "code",
   "execution_count": null,
   "metadata": {},
   "outputs": [],
   "source": [
    "b.update()                                    # this compliles the data into hdf5 files for plotting"
   ]
  },
  {
   "cell_type": "markdown",
   "metadata": {},
   "source": [
    "#### Modify the pages"
   ]
  },
  {
   "cell_type": "code",
   "execution_count": null,
   "metadata": {},
   "outputs": [],
   "source": [
    "npages = b.pages.copy()                     # make a copy of pages (in case you do something stupid)"
   ]
  },
  {
   "cell_type": "markdown",
   "metadata": {},
   "source": [
    "set the updated dataframe as your new pages"
   ]
  },
  {
   "cell_type": "code",
   "execution_count": null,
   "metadata": {},
   "outputs": [],
   "source": [
    "b.save_journal()                            # if you have made any changes to your journal pages, you should save it again.\n",
    "\n",
    "b.pages = npages"
   ]
  },
  {
   "cell_type": "markdown",
   "metadata": {},
   "source": [
    "#### Recalculate and link\n",
    "If you have changed parameters that `cellpy` uses internally in its calculations, such as nominal capacity or mass, you will have to do a recalculation. \n",
    "If you have removed cells, you will need to do a new linking."
   ]
  },
  {
   "cell_type": "markdown",
   "metadata": {},
   "source": [
    "## 3. Initial investigation of the batch experiment"
   ]
  },
  {
   "cell_type": "markdown",
   "metadata": {},
   "source": [
    "### 3.1 Summaries"
   ]
  },
  {
   "cell_type": "code",
   "execution_count": null,
   "metadata": {},
   "outputs": [],
   "source": [
    "b.combine_summaries()                   # Collect summary-data (e.g. charge capacity vs cycle number) from each cell and export to .csv-file(s)."
   ]
  },
  {
   "cell_type": "code",
   "execution_count": null,
   "metadata": {},
   "outputs": [],
   "source": [
    "# b.plot_summaries()                      # Plot the charge capacity and the C.E. (and resistance) vs. cycle number (standard plot)\n",
    "                                          # this is not presently working in the manual loader.  It has worked before but intermittently."
   ]
  },
  {
   "cell_type": "markdown",
   "metadata": {},
   "source": [
    "### Cell information\n",
    "for JP3 anodes 4.5 and Cathodes ~2.5mAh/cm2\n"
   ]
  },
  {
   "cell_type": "code",
   "execution_count": null,
   "metadata": {},
   "outputs": [],
   "source": [
    "b.link()                                                    # or b.update() if you would like to get new data from the tester.\n",
    "\n",
    "cell_labels = b.experiment.cell_names                       #  print(\" cell labels: \")\n",
    "\n",
    "# cell_labels                                               #  This displays cell labels if you want\n",
    "\n"
   ]
  },
  {
   "cell_type": "code",
   "execution_count": null,
   "metadata": {},
   "outputs": [],
   "source": [
    "cell_data01 = b.experiment.data[battery01]\n",
    "cell_data02 = b.experiment.data[battery02]\n",
    "cell_data03 = b.experiment.data[battery03]\n",
    "\n",
    "mass1 = mass01/1000                                 #  converts mass = mg to mass = grams\n",
    "mass2 = mass02/1000                                 \n",
    "mass3 = mass03/1000\n",
    "                                                    \n",
    "area = 1.767                                        # areas in cm^2, 1.767 for 15mm punched electrode\n",
    "\n",
    "# what cycle do you want to see?\n",
    "cycle_numbers = [3]                               #  This will carry down to all the cells below.  \n",
    "                                                  #  for n in x:"
   ]
  },
  {
   "cell_type": "code",
   "execution_count": null,
   "metadata": {},
   "outputs": [],
   "source": [
    "#   These were left in the event more cells are added to the manual loader.   Note the scripts are basically the same as before.\n",
    "# cell_data04 = b.experiment.data[battery04]\n",
    "# cell_data05 = b.experiment.data[battery05]\n",
    "# cell_data06 = b.experiment.data[battery06]\n",
    "# cell_data07 = b.experiment.data[battery07]\n",
    "# cell_data08 = b.experiment.data[battery08]\n",
    "# cell_data09 = b.experiment.data[battery09]\n",
    "# # cell_data10 = b.experiment.data[battery10]\n",
    "\n",
    "# mass4 = mass04/1000                                 #  mass = grams\n",
    "# mass5 = mass05/1000                                 \n",
    "# mass6 = mass06/1000\n",
    "# mass7 = mass07/1000                                \n",
    "# mass8 = mass08/1000                                 \n",
    "# mass9 = mass09/1000\n",
    "# # mass10 = mass10/1000                                "
   ]
  },
  {
   "cell_type": "markdown",
   "metadata": {},
   "source": [
    "## compile and export area/mass graphs"
   ]
  },
  {
   "cell_type": "code",
   "execution_count": null,
   "metadata": {},
   "outputs": [],
   "source": [
    "#  Please refer to Cellpy documentations to change chart type. The preferred here is \"forth and forth\"\n",
    "\n",
    "# This is for areal capacity calculations\n",
    "\n",
    "capacity_voltage1 = cell_data01.get_cap(cycle_numbers, label_cycle_number=True, method=\"forth-and-forth\")\n",
    "capacity_voltage2 = cell_data02.get_cap(cycle_numbers, label_cycle_number=True, method=\"forth-and-forth\")\n",
    "capacity_voltage3 = cell_data03.get_cap(cycle_numbers, label_cycle_number=True, method=\"forth-and-forth\")\n",
    "\n",
    "#  These were left for adding more cells if desired.\n",
    "# capacity_voltage4 = cell_data04.get_cap(cycle_numbers, label_cycle_number=True, method=\"forth-and-forth\")\n",
    "# capacity_voltage5 = cell_data05.get_cap(cycle_numbers, label_cycle_number=True, method=\"forth-and-forth\")\n",
    "# capacity_voltage6 = cell_data06.get_cap(cycle_numbers, label_cycle_number=True, method=\"forth-and-forth\")\n",
    "# capacity_voltage7 = cell_data07.get_cap(cycle_numbers, label_cycle_number=True, method=\"forth-and-forth\")\n",
    "# capacity_voltage8 = cell_data08.get_cap(cycle_numbers, label_cycle_number=True, method=\"forth-and-forth\")\n",
    "# capacity_voltage9 = cell_data09.get_cap(cycle_numbers, label_cycle_number=True, method=\"forth-and-forth\")\n"
   ]
  },
  {
   "cell_type": "code",
   "execution_count": null,
   "metadata": {},
   "outputs": [],
   "source": [
    "capacity_voltage1.capacity = capacity_voltage1.capacity * mass1/(area)\n",
    "capacity_voltage2.capacity = capacity_voltage2.capacity * mass2/(area)\n",
    "capacity_voltage3.capacity = capacity_voltage3.capacity * mass3/(area)\n",
    "\n",
    "#  These were left for adding more cells if desired.\n",
    "# capacity_voltage4.capacity = capacity_voltage4.capacity * mass4/(area)\n",
    "# capacity_voltage5.capacity = capacity_voltage5.capacity * mass5/(area)\n",
    "# capacity_voltage6.capacity = capacity_voltage6.capacity * mass6/(area)\n",
    "# capacity_voltage7.capacity = capacity_voltage7.capacity * mass7/(area)\n",
    "# capacity_voltage8.capacity = capacity_voltage8.capacity * mass8/(area)\n",
    "# capacity_voltage9.capacity = capacity_voltage9.capacity * mass9/(area)\n",
    "\n"
   ]
  },
  {
   "cell_type": "markdown",
   "metadata": {},
   "source": [
    "### now do mass"
   ]
  },
  {
   "cell_type": "code",
   "execution_count": null,
   "metadata": {},
   "outputs": [],
   "source": [
    "capacity_mass1 = cell_data01.get_cap(cycle_numbers, label_cycle_number=True, method=\"forth-and-forth\")\n",
    "capacity_mass1.capacity = capacity_mass1.capacity / mass1 \n",
    "\n",
    "capacity_mass2 = cell_data02.get_cap(cycle_numbers, label_cycle_number=True, method=\"forth-and-forth\")\n",
    "capacity_mass2.capacity = capacity_mass2.capacity /mass2\n",
    "\n",
    "capacity_mass3 = cell_data03.get_cap(cycle_numbers, label_cycle_number=True, method=\"forth-and-forth\")\n",
    "capacity_mass3.capacity = capacity_mass3.capacity / mass3\n"
   ]
  },
  {
   "cell_type": "code",
   "execution_count": null,
   "metadata": {},
   "outputs": [],
   "source": [
    "#  These were left for adding more cells if desired.\n",
    "\n",
    "# capacity_mass4 = cell_data04.get_cap(cycle_numbers, label_cycle_number=True, method=\"forth-and-forth\")\n",
    "# capacity_mass4.capacity = capacity_mass4.capacity \n",
    "\n",
    "# capacity_mass5 = cell_data05.get_cap(cycle_numbers, label_cycle_number=True, method=\"forth-and-forth\")\n",
    "# capacity_mass5.capacity = capacity_mass5.capacity \n",
    "\n",
    "# capacity_mass6 = cell_data06.get_cap(cycle_numbers, label_cycle_number=True, method=\"forth-and-forth\")\n",
    "# capacity_mass6.capacity = capacity_mass6.capacity \n",
    "\n",
    "# capacity_mass7 = cell_data07.get_cap(cycle_numbers, label_cycle_number=True, method=\"forth-and-forth\")\n",
    "# capacity_mass7.capacity = capacity_mass7.capacity \n",
    "\n",
    "# capacity_mass8 = cell_data08.get_cap(cycle_numbers, label_cycle_number=True, method=\"forth-and-forth\")\n",
    "# capacity_mass8.capacity = capacity_mass8.capacity \n",
    "\n",
    "# capacity_mass9 = cell_data09.get_cap(cycle_numbers, label_cycle_number=True, method=\"forth-and-forth\")\n",
    "# capacity_mass9.capacity = capacity_mass9.capacity \n",
    "\n",
    "\n"
   ]
  },
  {
   "cell_type": "markdown",
   "metadata": {},
   "source": [
    "## Plot"
   ]
  },
  {
   "cell_type": "code",
   "execution_count": null,
   "metadata": {},
   "outputs": [],
   "source": [
    "# Script 1: Plotting voltage versus capacity area\n",
    "fig, ax1 = plt.subplots()\n",
    "\n",
    "g_area = capacity_voltage1.groupby(\"cycle\")\n",
    "for cycle_number, frame in g_area:\n",
    "    ax1.plot(frame.capacity, frame.voltage, label=f'Cycle {cycle_number}')\n",
    "ax1.set_xlabel('Capacity Area (mAh/cm^2)')\n",
    "ax1.set_ylabel('Voltage')\n",
    "# ax1.legend()\n",
    "\n",
    "# Create a twin x-axis for capacity mass\n",
    "ax2 = ax1.twiny()\n",
    "\n",
    "# Script 2: Plotting voltage versus capacity mass on the twin x-axis\n",
    "g_mass = capacity_mass1.groupby(\"cycle\")\n",
    "for cycle_number, frame in g_mass:\n",
    "    ax2.plot(frame.capacity, frame.voltage, label=f'Cycle {cycle_number} (Mass)')\n",
    "ax2.set_xlabel('Capacity Mass (mAh/g)')\n",
    "\n",
    "ax2.legend(loc='lower left')\n",
    "\n",
    "plt.title(battery01, fontsize=8, loc='right')   # Adjust the fontsize as needed\n",
    "\n",
    "# Adjust the position of the x-axis label for ax2\n",
    "ax2.xaxis.set_label_coords(0.7, 0.95)           # Adjust the values to move the label below the x2 axis\n",
    "\n",
    "ax2.xaxis.label.set_fontsize(10)                # Adjust the font size as needed\n",
    "\n",
    "# Show the plot\n",
    "plt.show()\n"
   ]
  },
  {
   "cell_type": "code",
   "execution_count": null,
   "metadata": {},
   "outputs": [],
   "source": [
    "# Construct the full path to save the file in the specified folder\n",
    "file_name_1 = os.path.join(file_path01, os.path.basename(f\"{battery01}_mass&area_Cycle{cycle_number}\") + \".jpg\")\n",
    "file_name_1a = os.path.join(file_path02, os.path.basename(f\"{battery01}_mass&area_Cycle{cycle_number}\") + \".jpg\")\n",
    "\n",
    "# Save the figure without including the folder name\n",
    "fig.savefig(file_name_1, dpi=300)\n",
    "fig.savefig(file_name_1a, dpi=300)"
   ]
  },
  {
   "cell_type": "markdown",
   "metadata": {},
   "source": [
    "Extract final data points (n).  Here, =3 and was set above as cycle_number"
   ]
  },
  {
   "cell_type": "code",
   "execution_count": null,
   "metadata": {},
   "outputs": [],
   "source": [
    "# For capacity charge area plot\n",
    "g_area = capacity_voltage1.groupby(\"cycle\")\n",
    "for cycle_number, frame in g_area:\n",
    "    last_three_area = frame.tail(3)                                 #  frame.tail(3) where 3= number of data points\n",
    "    display(Markdown(f'### Cycle {cycle_number} - Area Charge Cap'))\n",
    "    display(last_three_area[['capacity', 'voltage']])\n",
    "\n",
    "# For discharge areal capacity plot\n",
    "g_discharge = capacity_voltage1[capacity_voltage1['voltage'] <= 2.52].groupby(\"cycle\")  # Matplot lib cannot automatically find\n",
    "for cycle_number, frame in g_discharge:                                                 # the last discharge points, you have to \n",
    "    last_three_discharge = frame.tail(3)                                                # narrow it down.  2.52 worked here.\n",
    "    display(Markdown(f'### Cycle {cycle_number} - Area Discharge Cap'))\n",
    "    display(last_three_discharge[['capacity', 'voltage']])\n",
    "    \n",
    "# For capacity mass plot\n",
    "# Assuming you have a similar DataFrame for capacity_mass1\n",
    "g_mass = capacity_mass1.groupby(\"cycle\")\n",
    "for cycle_number, frame in g_mass:\n",
    "    last_three_mass = frame.tail(3)\n",
    "    display(Markdown(f'### Cycle {cycle_number} - mass charge Cap'))\n",
    "    display(last_three_mass[['capacity', 'voltage']])\n",
    "    \n",
    "    # For discharge mass capacity plot\n",
    "g_discharge_mass = capacity_mass1[capacity_mass1['voltage'] <= 2.52].groupby(\"cycle\")\n",
    "for cycle_number, frame in g_discharge_mass:\n",
    "    last_three_discharge_mass = frame.tail(3)\n",
    "    display(Markdown(f'### Cycle {cycle_number} - Mass Discharge Cap'))\n",
    "    display(last_three_discharge_mass[['capacity', 'voltage']])\n"
   ]
  },
  {
   "cell_type": "markdown",
   "metadata": {},
   "source": [
    "Cell 2"
   ]
  },
  {
   "cell_type": "code",
   "execution_count": null,
   "metadata": {},
   "outputs": [],
   "source": [
    "# Script 1: Plotting voltage versus capacity area\n",
    "fig, ax1 = plt.subplots()\n",
    "\n",
    "g_area = capacity_voltage2.groupby(\"cycle\")\n",
    "for cycle_number, frame in g_area:\n",
    "    ax1.plot(frame.capacity, frame.voltage, label=f'Cycle {cycle_number}')\n",
    "ax1.set_xlabel('Capacity Area (mAh/cm^2)')\n",
    "ax1.set_ylabel('Voltage')\n",
    "# ax1.legend()\n",
    "\n",
    "# Create a twin x-axis for capacity mass\n",
    "ax2 = ax1.twiny()\n",
    "\n",
    "# Script 2: Plotting voltage versus capacity mass on the twin x-axis\n",
    "g_mass = capacity_mass2.groupby(\"cycle\")\n",
    "for cycle_number, frame in g_mass:\n",
    "    ax2.plot(frame.capacity, frame.voltage, label=f'Cycle {cycle_number} (Mass)')\n",
    "ax2.set_xlabel('Capacity Mass (mAh/g)')\n",
    "\n",
    "ax2.legend(loc='lower left')\n",
    "\n",
    "plt.title(battery02, fontsize=8, loc='right')  # Adjust the fontsize as needed\n",
    "\n",
    "# Adjust the position of the x-axis label for ax2\n",
    "ax2.xaxis.set_label_coords(0.5, 0.95)  # Adjust the values to move the label below the x2 axis\n",
    "\n",
    "\n",
    "# Show the plot\n",
    "plt.show()"
   ]
  },
  {
   "cell_type": "code",
   "execution_count": null,
   "metadata": {},
   "outputs": [],
   "source": [
    "# Construct the full path to save the file in the specified folder\n",
    "file_name_2 = os.path.join(file_path01, os.path.basename(f\"{battery02}_mass&area_Cycle{cycle_number}\") + \".jpg\")\n",
    "file_name_2a = os.path.join(file_path02, os.path.basename(f\"{battery02}_mass&area_Cycle{cycle_number}\") + \".jpg\")\n",
    "\n",
    "# Save the figure without including the folder name\n",
    "fig.savefig(file_name_2, dpi=300)\n",
    "fig.savefig(file_name_2a, dpi=300)"
   ]
  },
  {
   "cell_type": "markdown",
   "metadata": {},
   "source": [
    "Extract last n data points for cell 2"
   ]
  },
  {
   "cell_type": "code",
   "execution_count": null,
   "metadata": {},
   "outputs": [],
   "source": [
    "# For capacity charge area plot\n",
    "g_area = capacity_voltage2.groupby(\"cycle\")\n",
    "for cycle_number, frame in g_area:\n",
    "    last_three_area = frame.tail(3)\n",
    "    display(Markdown(f'### Cycle {cycle_number} - Area Charge Cap'))\n",
    "    display(last_three_area[['capacity', 'voltage']])\n",
    "\n",
    "# For discharge areal capacity plot\n",
    "g_discharge = capacity_voltage2[capacity_voltage2['voltage'] <= 2.52].groupby(\"cycle\")\n",
    "for cycle_number, frame in g_discharge:\n",
    "    last_three_discharge = frame.tail(3)\n",
    "    display(Markdown(f'### Cycle {cycle_number} - Area Discharge Cap'))\n",
    "    display(last_three_discharge[['capacity', 'voltage']])\n",
    "    \n",
    "# For capacity mass plot\n",
    "# Assuming you have a similar DataFrame for capacity_mass2\n",
    "g_mass = capacity_mass2.groupby(\"cycle\")\n",
    "for cycle_number, frame in g_mass:\n",
    "    last_three_mass = frame.tail(3)\n",
    "    display(Markdown(f'### Cycle {cycle_number} - mass charge Cap'))\n",
    "    display(last_three_mass[['capacity', 'voltage']])\n",
    "    \n",
    "    # For discharge mass capacity plot\n",
    "g_discharge_mass = capacity_mass2[capacity_mass2['voltage'] <= 2.52].groupby(\"cycle\")\n",
    "for cycle_number, frame in g_discharge_mass:\n",
    "    last_three_discharge_mass = frame.tail(3)\n",
    "    display(Markdown(f'### Cycle {cycle_number} - Mass Discharge Cap'))\n",
    "    display(last_three_discharge_mass[['capacity', 'voltage']])\n"
   ]
  },
  {
   "cell_type": "markdown",
   "metadata": {},
   "source": [
    "Cell 3"
   ]
  },
  {
   "cell_type": "code",
   "execution_count": null,
   "metadata": {},
   "outputs": [],
   "source": [
    "# Script 1: Plotting voltage versus capacity area\n",
    "fig, ax1 = plt.subplots()\n",
    "\n",
    "g_area = capacity_voltage3.groupby(\"cycle\")\n",
    "for cycle_number, frame in g_area:\n",
    "    ax1.plot(frame.capacity, frame.voltage, label=f'Cycle {cycle_number}')\n",
    "ax1.set_xlabel('Capacity Area (mAh/cm^2)')\n",
    "ax1.set_ylabel('Voltage')\n",
    "ax1.legend()\n",
    "\n",
    "# Create a twin x-axis for capacity mass\n",
    "ax2 = ax1.twiny()\n",
    "\n",
    "# Script 2: Plotting voltage versus capacity mass on the twin x-axis\n",
    "g_mass = capacity_mass3.groupby(\"cycle\")\n",
    "for cycle_number, frame in g_mass:\n",
    "    ax2.plot(frame.capacity, frame.voltage, label=f'Cycle {cycle_number} (Mass)')\n",
    "ax2.set_xlabel('Capacity Mass (mAh/g)')\n",
    "\n",
    "# Combine legends from both x-axes\n",
    "# lines1, labels1 = ax1.get_legend_handles_labels()\n",
    "# lines2, labels2 = ax2.get_legend_handles_labels()\n",
    "# ax2.legend(lines1 + lines2, labels1 + labels2, loc='upper left')\n",
    "\n",
    "plt.title(battery03, fontsize=8, loc='right')  # Adjust the fontsize as needed\n",
    "\n",
    "# Adjust the position of the x-axis label for ax2\n",
    "ax2.xaxis.set_label_coords(0.5, 0.95)  # Adjust the values to move the label below the x2 axis\n",
    "\n",
    "#  ax2.xaxis.label.set_fontsize(10)  # Adjust the font size as needed\n",
    "\n",
    "\n",
    "# Show the plot\n",
    "plt.show()"
   ]
  },
  {
   "cell_type": "code",
   "execution_count": null,
   "metadata": {},
   "outputs": [],
   "source": [
    "# Construct the full path to save the file in the specified folder\n",
    "file_name_3 = os.path.join(file_path01, os.path.basename(f\"{battery03}_mass&area_Cycle{cycle_number}\") + \".jpg\")\n",
    "file_name_3a = os.path.join(file_path02, os.path.basename(f\"{battery03}_mass&area_Cycle{cycle_number}\") + \".jpg\")\n",
    "\n",
    "# Save the figure without including the folder name\n",
    "fig.savefig(file_name_3, dpi=300)\n",
    "fig.savefig(file_name_3a, dpi=300)"
   ]
  },
  {
   "cell_type": "markdown",
   "metadata": {},
   "source": [
    "Extract last n points for cell 3"
   ]
  },
  {
   "cell_type": "code",
   "execution_count": null,
   "metadata": {},
   "outputs": [],
   "source": [
    "# For capacity charge area plot\n",
    "g_area = capacity_voltage3.groupby(\"cycle\")\n",
    "for cycle_number, frame in g_area:\n",
    "    last_three_area = frame.tail(3)\n",
    "    display(Markdown(f'### Cycle {cycle_number} - Area Charge Cap'))\n",
    "    display(last_three_area[['capacity', 'voltage']])\n",
    "\n",
    "# For discharge areal capacity plot\n",
    "g_discharge = capacity_voltage3[capacity_voltage3['voltage'] <= 2.52].groupby(\"cycle\")\n",
    "for cycle_number, frame in g_discharge:\n",
    "    last_three_discharge = frame.tail(3)\n",
    "    display(Markdown(f'### Cycle {cycle_number} - Area Discharge Cap'))\n",
    "    display(last_three_discharge[['capacity', 'voltage']])\n",
    "    \n",
    "# For capacity mass plot\n",
    "# Assuming you have a similar DataFrame for capacity_mass2\n",
    "g_mass = capacity_mass3.groupby(\"cycle\")\n",
    "for cycle_number, frame in g_mass:\n",
    "    last_three_mass = frame.tail(3)\n",
    "    display(Markdown(f'### Cycle {cycle_number} - mass charge Cap'))\n",
    "    display(last_three_mass[['capacity', 'voltage']])\n",
    "    \n",
    "    # For discharge mass capacity plot\n",
    "g_discharge_mass = capacity_mass3[capacity_mass3['voltage'] <= 2.52].groupby(\"cycle\")\n",
    "for cycle_number, frame in g_discharge_mass:\n",
    "    last_three_discharge_mass = frame.tail(3)\n",
    "    display(Markdown(f'### Cycle {cycle_number} - Mass Discharge Cap'))\n",
    "    display(last_three_discharge_mass[['capacity', 'voltage']])\n"
   ]
  },
  {
   "cell_type": "markdown",
   "metadata": {},
   "source": [
    "**Overlay**"
   ]
  },
  {
   "cell_type": "code",
   "execution_count": null,
   "metadata": {},
   "outputs": [],
   "source": [
    "battery01               # check which cells if desired"
   ]
  },
  {
   "cell_type": "code",
   "execution_count": null,
   "metadata": {},
   "outputs": [],
   "source": [
    "battery02\n"
   ]
  },
  {
   "cell_type": "code",
   "execution_count": null,
   "metadata": {},
   "outputs": [],
   "source": [
    "battery03"
   ]
  },
  {
   "cell_type": "code",
   "execution_count": null,
   "metadata": {},
   "outputs": [],
   "source": [
    "# Define the cycle numbers you want to plot\n",
    "cycle_numbers_to_plot = [3]"
   ]
  },
  {
   "cell_type": "code",
   "execution_count": null,
   "metadata": {},
   "outputs": [],
   "source": [
    "#  you can add labels for each cell if they differe from teh file name (mine are really long)\n",
    "cell_1 = \"Lot 502K\"         #should reflect battery01 in some way.  Likewise the rest\n",
    "cell_2 = \"Lot 626K\"\n",
    "cell_3 = \"Lot 592K\"\n",
    "\n"
   ]
  },
  {
   "cell_type": "markdown",
   "metadata": {},
   "source": [
    "Overlay plot 1 and Plot 2"
   ]
  },
  {
   "cell_type": "code",
   "execution_count": null,
   "metadata": {},
   "outputs": [],
   "source": [
    "#   Note:   This is only for areal capacity.  Overlays of mass capacity can be done, but both together cannot be done \n",
    "#   for multiple samples.   That is, it can be but you will get multiple plot lines.\n",
    "\n",
    "fig, ax1 = plt.subplots()\n",
    "\n",
    "g_area = capacity_voltage1.groupby(\"cycle\")\n",
    "for cycle_number, frame in g_area:\n",
    "    ax1.plot(frame.capacity, frame.voltage, label=f'Cycle {cycle_number}  {battery01}')\n",
    "    \n",
    "g_area = capacity_voltage2.groupby(\"cycle\")\n",
    "for cycle_number, frame in g_area:\n",
    "    ax1.plot(frame.capacity, frame.voltage, label=f'Cycle {cycle_number}  {battery02}')  #   (Battery 2)')\n",
    "\n",
    "ax1.set_xlabel('Capacity Area (mAh/cm^2)')\n",
    "ax1.set_ylabel('Voltage')\n",
    "\n",
    "# ax1.legend(loc='lower left')\n",
    "ax1.legend(fontsize=8, loc='center', bbox_to_anchor=(0.335, 1.08))\n",
    "\n",
    "# optional plot title\n",
    "#  plt.title(f'{battery01} \\nand {battery02}', fontsize=8, loc='right', wrap=True, ha='right')  # Adjust the fontsize as needed\n",
    "\n",
    "ax2.xaxis.set_label_coords(0.5, 0.95)  # Adjust the values to move the label below the x2 axis\n",
    "plt.show()\n"
   ]
  },
  {
   "cell_type": "code",
   "execution_count": null,
   "metadata": {},
   "outputs": [],
   "source": [
    "# Specify the folder path where you want to save the graph\n",
    "save_folder1 = file_path01\n",
    "save_folder2 = file_path02\n",
    "\n",
    "# Construct the full path to save the file in the specified folder\n",
    "file_name_x = os.path.join(file_path01, os.path.basename(cell_1 + cell_2 + '_overlay') + \".jpg\")\n",
    "file_name_x2 = os.path.join(file_path02, os.path.basename(cell_1 + cell_2+ '_overlay') + \".jpg\")\n",
    "\n",
    "# Save the figure without including the folder name\n",
    "fig.savefig(file_name_x, dpi=300)\n",
    "\n",
    "fig.savefig(file_name_x2, dpi=300)\n",
    "\n"
   ]
  },
  {
   "cell_type": "markdown",
   "metadata": {},
   "source": [
    "### Overlay 1,2, 3"
   ]
  },
  {
   "cell_type": "code",
   "execution_count": null,
   "metadata": {},
   "outputs": [],
   "source": [
    "fig, ax1 = plt.subplots()\n",
    "\n",
    "g_area = capacity_voltage1.groupby(\"cycle\")\n",
    "for cycle_number, frame in g_area:\n",
    "    ax1.plot(frame.capacity, frame.voltage, label=f'Cycle {cycle_number}  {battery01}')\n",
    "    \n",
    "g_area = capacity_voltage2.groupby(\"cycle\")\n",
    "for cycle_number, frame in g_area:\n",
    "    ax1.plot(frame.capacity, frame.voltage, label=f'Cycle {cycle_number}  {battery02}')  #   (Battery 2)')\n",
    "    \n",
    "g_area = capacity_voltage3.groupby(\"cycle\")\n",
    "for cycle_number, frame in g_area:\n",
    "    ax1.plot(frame.capacity, frame.voltage, label=f'Cycle {cycle_number}  {battery03}')  #   (Battery 3)')\n",
    "\n",
    "ax1.set_xlabel('Capacity Area (mAh/cm^2)')\n",
    "ax1.set_ylabel('Voltage')\n",
    "\n",
    "\n",
    "ax1.legend(fontsize=8, loc='center', bbox_to_anchor=(0.335, 1.08))\n",
    "\n",
    "\n",
    "ax2.xaxis.set_label_coords(0.5, 0.95)  # Adjust the values to move the label below the x2 axis\n",
    "plt.show()\n"
   ]
  },
  {
   "cell_type": "code",
   "execution_count": null,
   "metadata": {},
   "outputs": [],
   "source": [
    "# Specify the folder path where you want to save the graph\n",
    "save_folder1 = file_path01\n",
    "save_folder2 = file_path02\n",
    "\n",
    "# Construct the full path to save the file in the specified folder\n",
    "file_name_123 = os.path.join(file_path01, os.path.basename(cell_1 + cell_2 + cell_3 + '_overlay') + \".jpg\")\n",
    "file_name_123a = os.path.join(file_path02, os.path.basename(cell_1 + cell_2 + cell_3 + '_overlay') + \".jpg\")\n",
    "\n",
    "# Save the figure without including the folder name\n",
    "fig.savefig(file_name_123, dpi=300)\n",
    "\n",
    "fig.savefig(file_name_123a, dpi=300)\n",
    "\n"
   ]
  },
  {
   "cell_type": "markdown",
   "metadata": {},
   "source": []
  },
  {
   "cell_type": "markdown",
   "metadata": {},
   "source": [
    "## battery 04 ##"
   ]
  },
  {
   "cell_type": "markdown",
   "metadata": {},
   "source": [
    "This code was left for expansion for more cells. it was not used in this template."
   ]
  },
  {
   "cell_type": "code",
   "execution_count": null,
   "metadata": {},
   "outputs": [],
   "source": [
    "# Script 1: Plotting voltage versus capacity area\n",
    "fig, ax1 = plt.subplots()\n",
    "\n",
    "# Define a list of colors for each sample\n",
    "colors = ['blue', 'red', 'green', 'orange']  # Add more colors if needed\n",
    "\n",
    "# # Define a list of colors for each cycle\n",
    "# colors = ['b', 'g', 'r', 'c', 'm', 'y', 'k']\n",
    "\n",
    "g_area = capacity_voltage1.groupby(\"cycle\")\n",
    "for i, (cycle_number, frame) in enumerate(g_area):\n",
    "    ax1.plot(frame.capacity, frame.voltage, label=f'Cycle {cycle_number}', color=colors[i % len(colors)])  # Assign colors in a repeating pattern\n",
    "ax1.set_xlabel('Capacity Area (mAh/cm^2)')\n",
    "ax1.set_ylabel('Voltage')\n",
    "ax1.legend()\n",
    "\n",
    "# Create a twin x-axis for capacity mass\n",
    "ax2 = ax1.twiny()\n",
    "\n",
    "# Script 2: Plotting voltage versus capacity mass on the twin x-axis\n",
    "g_mass = capacity_mass2.groupby(\"cycle\")\n",
    "for i, (cycle_number, frame) in enumerate(g_mass):\n",
    "    ax2.plot(frame.capacity, frame.voltage, label=f'Cycle {cycle_number} (Mass)', color=colors[i % len(colors)])  # Assign colors in a repeating pattern\n",
    "ax2.set_xlabel('Capacity Mass (mAh/g)')\n",
    "\n",
    "\n",
    "plt.title(battery01+\"_\"+battery02+\"_\"+battery03, fontsize=8, loc='right')  # Adjust the fontsize as needed\n",
    "\n",
    "# Adjust the position of the x-axis label for ax2\n",
    "ax2.xaxis.set_label_coords(0.5, 0.95)  # Adjust the values to move the label below the x2 axis\n",
    "\n",
    "#  ax2.xaxis.label.set_fontsize(10)  # Adjust the font size as needed\n",
    "\n",
    "# Show the plot\n",
    "plt.show()"
   ]
  },
  {
   "cell_type": "markdown",
   "metadata": {},
   "source": [
    "save plot script and export would go here."
   ]
  },
  {
   "cell_type": "markdown",
   "metadata": {},
   "source": [
    "Cell 5"
   ]
  },
  {
   "cell_type": "code",
   "execution_count": null,
   "metadata": {},
   "outputs": [],
   "source": [
    "# Script 1: Plotting voltage versus capacity area\n",
    "fig, ax1 = plt.subplots()\n",
    "\n",
    "g_area = capacity_voltage5.groupby(\"cycle\")\n",
    "for cycle_number, frame in g_area:\n",
    "    ax1.plot(frame.capacity, frame.voltage, label=f'Cycle {cycle_number}')\n",
    "ax1.set_xlabel('Capacity Area (mAh/cm^2)')\n",
    "ax1.set_ylabel('Voltage')\n",
    "ax1.legend()\n",
    "\n",
    "# Create a twin x-axis for capacity mass\n",
    "ax2 = ax1.twiny()\n",
    "\n",
    "# Script 2: Plotting voltage versus capacity mass on the twin x-axis\n",
    "g_mass = capacity_mass5.groupby(\"cycle\")\n",
    "for cycle_number, frame in g_mass:\n",
    "    ax2.plot(frame.capacity, frame.voltage, label=f'Cycle {cycle_number} (Mass)')\n",
    "ax2.set_xlabel('Capacity Mass (mAh/g)')\n",
    "\n",
    "plt.title(battery05, fontsize=8, loc='right')  # Adjust the fontsize as needed\n",
    "\n",
    "# Adjust the position of the x-axis label for ax2\n",
    "ax2.xaxis.set_label_coords(0.5, 0.95)  # Adjust the values to move the label below the x2 axis\n",
    "\n",
    "#  ax2.xaxis.label.set_fontsize(10)  # Adjust the font size as needed\n",
    "\n",
    "plt.show()"
   ]
  },
  {
   "cell_type": "markdown",
   "metadata": {},
   "source": [
    "save plot script and export would go here."
   ]
  },
  {
   "cell_type": "markdown",
   "metadata": {},
   "source": [
    "Cell 6"
   ]
  },
  {
   "cell_type": "code",
   "execution_count": null,
   "metadata": {},
   "outputs": [],
   "source": [
    "# Script 1: Plotting voltage versus capacity area\n",
    "fig, ax1 = plt.subplots()\n",
    "\n",
    "g_area = capacity_voltage6.groupby(\"cycle\")\n",
    "for cycle_number, frame in g_area:\n",
    "    ax1.plot(frame.capacity, frame.voltage, label=f'Cycle {cycle_number}')\n",
    "ax1.set_xlabel('Capacity Area (mAh/cm^2)')\n",
    "ax1.set_ylabel('Voltage')\n",
    "ax1.legend()\n",
    "\n",
    "# Create a twin x-axis for capacity mass\n",
    "ax2 = ax1.twiny()\n",
    "\n",
    "# Script 2: Plotting voltage versus capacity mass on the twin x-axis\n",
    "g_mass = capacity_mass6.groupby(\"cycle\")\n",
    "for cycle_number, frame in g_mass:\n",
    "    ax2.plot(frame.capacity, frame.voltage, label=f'Cycle {cycle_number} (Mass)')\n",
    "ax2.set_xlabel('Capacity Mass (mAh/g)')\n",
    "\n",
    "plt.title(battery06, fontsize=8, loc='right')  # Adjust the fontsize as needed\n",
    "\n",
    "# Adjust the position of the x-axis label for ax2\n",
    "ax2.xaxis.set_label_coords(0.5, 0.95)  # Adjust the values to move the label below the x2 axis\n",
    "\n",
    "#  ax2.xaxis.label.set_fontsize(10)  # Adjust the font size as needed\n",
    "\n",
    "plt.show()"
   ]
  },
  {
   "cell_type": "markdown",
   "metadata": {},
   "source": [
    "save plot script and export would go here."
   ]
  },
  {
   "cell_type": "markdown",
   "metadata": {},
   "source": [
    "Cell 7"
   ]
  },
  {
   "cell_type": "code",
   "execution_count": null,
   "metadata": {},
   "outputs": [],
   "source": [
    "# Script 1: Plotting voltage versus capacity area\n",
    "fig, ax1 = plt.subplots()\n",
    "\n",
    "g_area = capacity_voltage7.groupby(\"cycle\")\n",
    "for cycle_number, frame in g_area:\n",
    "    ax1.plot(frame.capacity, frame.voltage, label=f'Cycle {cycle_number}')\n",
    "ax1.set_xlabel('Capacity Area (mAh/cm^2)')\n",
    "ax1.set_ylabel('Voltage')\n",
    "ax1.legend()\n",
    "\n",
    "# Create a twin x-axis for capacity mass\n",
    "ax2 = ax1.twiny()\n",
    "\n",
    "# Script 2: Plotting voltage versus capacity mass on the twin x-axis\n",
    "g_mass = capacity_mass7.groupby(\"cycle\")\n",
    "for cycle_number, frame in g_mass:\n",
    "    ax2.plot(frame.capacity, frame.voltage, label=f'Cycle {cycle_number} (Mass)')\n",
    "ax2.set_xlabel('Capacity Mass (mAh/g)')\n",
    "\n",
    "plt.title(battery07, fontsize=8, loc='right')  # Adjust the fontsize as needed\n",
    "\n",
    "# Adjust the position of the x-axis label for ax2\n",
    "ax2.xaxis.set_label_coords(0.5, 0.95)  # Adjust the values to move the label below the x2 axis\n",
    "\n",
    "#  ax2.xaxis.label.set_fontsize(10)  # Adjust the font size as needed\n",
    "\n",
    "plt.show()"
   ]
  },
  {
   "cell_type": "markdown",
   "metadata": {},
   "source": [
    "save plot script and export would go here."
   ]
  },
  {
   "cell_type": "markdown",
   "metadata": {},
   "source": [
    "Cell 8"
   ]
  },
  {
   "cell_type": "code",
   "execution_count": null,
   "metadata": {},
   "outputs": [],
   "source": [
    "# Script 1: Plotting voltage versus capacity area\n",
    "fig, ax1 = plt.subplots()\n",
    "\n",
    "g_area = capacity_voltage8.groupby(\"cycle\")\n",
    "for cycle_number, frame in g_area:\n",
    "    ax1.plot(frame.capacity, frame.voltage, label=f'Cycle {cycle_number}')\n",
    "ax1.set_xlabel('Capacity Area (mAh/cm^2)')\n",
    "ax1.set_ylabel('Voltage')\n",
    "ax1.legend()\n",
    "\n",
    "# Create a twin x-axis for capacity mass\n",
    "ax2 = ax1.twiny()\n",
    "\n",
    "# Script 2: Plotting voltage versus capacity mass on the twin x-axis\n",
    "g_mass = capacity_mass8.groupby(\"cycle\")\n",
    "for cycle_number, frame in g_mass:\n",
    "    ax2.plot(frame.capacity, frame.voltage, label=f'Cycle {cycle_number} (Mass)')\n",
    "ax2.set_xlabel('Capacity Mass (mAh/g)')\n",
    "\n",
    "plt.title(battery08, fontsize=8, loc='right')  # Adjust the fontsize as needed\n",
    "\n",
    "# Adjust the position of the x-axis label for ax2\n",
    "ax2.xaxis.set_label_coords(0.5, 0.95)  # Adjust the values to move the label below the x2 axis\n",
    "\n",
    "#  ax2.xaxis.label.set_fontsize(10)  # Adjust the font size as needed\n",
    "\n",
    "plt.show()"
   ]
  },
  {
   "cell_type": "markdown",
   "metadata": {},
   "source": [
    "save plot script and export would go here."
   ]
  },
  {
   "cell_type": "markdown",
   "metadata": {},
   "source": [
    "Cell 9"
   ]
  },
  {
   "cell_type": "code",
   "execution_count": null,
   "metadata": {},
   "outputs": [],
   "source": [
    "# Script 1: Plotting voltage versus capacity area\n",
    "fig, ax1 = plt.subplots()\n",
    "\n",
    "g_area = capacity_voltage9.groupby(\"cycle\")\n",
    "for cycle_number, frame in g_area:\n",
    "    ax1.plot(frame.capacity, frame.voltage, label=f'Cycle {cycle_number}')\n",
    "ax1.set_xlabel('Capacity Area (mAh/cm^2)')\n",
    "ax1.set_ylabel('Voltage')\n",
    "ax1.legend()\n",
    "\n",
    "# Create a twin x-axis for capacity mass\n",
    "ax2 = ax1.twiny()\n",
    "\n",
    "# Script 2: Plotting voltage versus capacity mass on the twin x-axis\n",
    "g_mass = capacity_mass9.groupby(\"cycle\")\n",
    "for cycle_number, frame in g_mass:\n",
    "    ax2.plot(frame.capacity, frame.voltage, label=f'Cycle {cycle_number} (Mass)')\n",
    "ax2.set_xlabel('Capacity Mass (mAh/g)')\n",
    "\n",
    "plt.title(battery09, fontsize=8, loc='right')  # Adjust the fontsize as needed\n",
    "\n",
    "# Adjust the position of the x-axis label for ax2\n",
    "ax2.xaxis.set_label_coords(0.5, 0.95)  # Adjust the values to move the label below the x2 axis\n",
    "\n",
    "#  ax2.xaxis.label.set_fontsize(10)  # Adjust the font size as needed\n",
    "\n",
    "plt.show()"
   ]
  },
  {
   "cell_type": "markdown",
   "metadata": {},
   "source": [
    "save plot script and export would go here."
   ]
  },
  {
   "cell_type": "markdown",
   "metadata": {},
   "source": [
    "Cell 10"
   ]
  },
  {
   "cell_type": "code",
   "execution_count": null,
   "metadata": {},
   "outputs": [],
   "source": [
    "# Script 1: Plotting voltage versus capacity area\n",
    "fig, ax1 = plt.subplots()\n",
    "\n",
    "g_area = capacity_voltage10.groupby(\"cycle\")\n",
    "for cycle_number, frame in g_area:\n",
    "    ax1.plot(frame.capacity, frame.voltage, label=f'Cycle {cycle_number}')\n",
    "ax1.set_xlabel('Capacity Area (mAh/cm^2)')\n",
    "ax1.set_ylabel('Voltage')\n",
    "ax1.legend()\n",
    "\n",
    "# Create a twin x-axis for capacity mass\n",
    "ax2 = ax1.twiny()\n",
    "\n",
    "# Script 2: Plotting voltage versus capacity mass on the twin x-axis\n",
    "g_mass = capacity_mass10.groupby(\"cycle\")\n",
    "for cycle_number, frame in g_mass:\n",
    "    ax2.plot(frame.capacity, frame.voltage, label=f'Cycle {cycle_number} (Mass)')\n",
    "ax2.set_xlabel('Capacity Mass (mAh/g)')\n",
    "\n",
    "plt.title(battery10, fontsize=8, loc='right')  # Adjust the fontsize as needed\n",
    "\n",
    "# Adjust the position of the x-axis label for ax2\n",
    "ax2.xaxis.set_label_coords(0.5, 0.95)  # Adjust the values to move the label below the x2 axis\n",
    "\n",
    "#  ax2.xaxis.label.set_fontsize(10)  # Adjust the font size as needed\n",
    "\n",
    "plt.show()"
   ]
  },
  {
   "cell_type": "markdown",
   "metadata": {},
   "source": [
    "save plot script and export would go here."
   ]
  }
 ],
 "metadata": {
  "kernelspec": {
   "display_name": "Python 3",
   "language": "python",
   "name": "python3"
  },
  "language_info": {
   "codemirror_mode": {
    "name": "ipython",
    "version": 3
   },
   "file_extension": ".py",
   "mimetype": "text/x-python",
   "name": "python",
   "nbconvert_exporter": "python",
   "pygments_lexer": "ipython3",
   "version": "3.10.4"
  },
  "vscode": {
   "interpreter": {
    "hash": "f3e22577cfd05ccd65f94525b9d550e81327b7f65fda4b27bf071f090be5627b"
   }
  }
 },
 "nbformat": 4,
 "nbformat_minor": 4
}
