{
 "cells": [
  {
   "cell_type": "markdown",
   "metadata": {},
   "source": [
    "### This is a manual loader for almost any cell"
   ]
  },
  {
   "cell_type": "markdown",
   "metadata": {
    "toc-hr-collapsed": true,
    "toc-nb-collapsed": true
   },
   "source": [
    "**Experimental-id:** Post mortem analysis\n",
    "**Short-name:** `Sample batch name here`  \n",
    "**Project:** All \n",
    "**By:** `John Ostrander`   \n",
    "**Date:** `2023-01-14`  "
   ]
  },
  {
   "cell_type": "markdown",
   "metadata": {},
   "source": [
    "## 1. Setting up everything.   This is Template file and should be used for future pages."
   ]
  },
  {
   "cell_type": "markdown",
   "metadata": {},
   "source": [
    "###  List of samples Remarked samples are bad/bad data\n",
    "\n",
    "CELL DATA THAT IS BAD (in red) FOR SOME REASON should be redundantly marked in spreadsheet, loader, and GITT exporter.\n",
    "| updated 3.12.2023| 2 | cells in this page | \n",
    "|---  | --- | --- | \n",
    "| <p style=\"color:#FF0000\">bad sample </p>  |  Sample_1 | Sample2  |   \n",
    "|  Sample_3 |  and so on.... |   |\n",
    "\n",
    "This template contains code which extracts capacity data from the capacity vs. voltage plots.\n",
    "\n"
   ]
  },
  {
   "cell_type": "markdown",
   "metadata": {},
   "source": [
    "### Import everything you will use in this first cell (quicker)\n",
    "Note! This template was made for `cellpy` version 0.4.1.a3"
   ]
  },
  {
   "cell_type": "code",
   "execution_count": 1,
   "metadata": {},
   "outputs": [
    {
     "name": "stdout",
     "output_type": "stream",
     "text": [
      "cellpy version: 0.4.3a2\n"
     ]
    }
   ],
   "source": [
    "import sys\n",
    "import cellpy\n",
    "from pathlib import Path\n",
    "\n",
    "import numpy as np\n",
    "import pandas as pd\n",
    "import matplotlib.pyplot as plt\n",
    "import matplotlib.cm as cm\n",
    "import os\n",
    "\n",
    "from cellpy import prms\n",
    "from cellpy import prmreader\n",
    "from cellpy.utils import batch, plotutils\n",
    "from IPython.display import display, Markdown\n",
    "\n",
    "%matplotlib inline\n",
    "print(f\"cellpy version: {cellpy.__version__}\")"
   ]
  },
  {
   "cell_type": "code",
   "execution_count": 2,
   "metadata": {},
   "outputs": [],
   "source": [
    "#  cell_labels     #  This is after you load the cells, otherwise you get an error"
   ]
  },
  {
   "cell_type": "markdown",
   "metadata": {},
   "source": [
    "## Listing all files"
   ]
  },
  {
   "cell_type": "code",
   "execution_count": 3,
   "metadata": {},
   "outputs": [],
   "source": [
    "path0=r'c:\\scripting\\cellpy_data\\Raw'           #  This indicates the path for data files.  this is my path, replace it with yours\n",
    "path_obj = Path(path0)\n",
    "\n",
    "file_path01=r\"C:\\path01\\\"                       #  When exporting graphs, these two directors will contain the exported files\n",
    "file_path02= r\"C:\\path02\\\"\n"
   ]
  },
  {
   "cell_type": "markdown",
   "metadata": {},
   "source": [
    "### Creating pages and initialise the cellpy batch object\n",
    "If you need to create Journal Pages, please provide appropriate names for the project and the experiment to allow `cellpy` to build the pages."
   ]
  },
  {
   "cell_type": "code",
   "execution_count": 6,
   "metadata": {},
   "outputs": [],
   "source": [
    "# Parameters for the batch\n",
    "project = \"Name_of_project\"                     #  This is for purposes of labels in the dataframe\n",
    "name = \"experiment_name(s)\"\n",
    "\n",
    "# this is the name of the batch file as well\n",
    "batch_col = \"b03\"                               # This is residue from the auto-loader.  It doesn't do anything, but the loader will not work properly without it.\n",
    "\n"
   ]
  },
  {
   "cell_type": "code",
   "execution_count": 7,
   "metadata": {},
   "outputs": [],
   "source": [
    "b = batch.init(name, project, batch_col=batch_col, db_reader=None)  # Note! db_reader= None is necessary to use the manual loader"
   ]
  },
  {
   "cell_type": "markdown",
   "metadata": {},
   "source": [
    "### Set optional parameters\n",
    "You should set overall parameters before creating the journal and lodaing the data. The most common ones are given below (uncomment what you need)."
   ]
  },
  {
   "cell_type": "code",
   "execution_count": 8,
   "metadata": {},
   "outputs": [],
   "source": [
    "## Setting some prms if default values are not OK for you\n",
    "# b.experiment.nom_cap = 372.0\n",
    "b.experiment.export_raw = False\n",
    "b.experiment.export_cycles = False\n",
    "b.experiment.export_ica = False\n",
    "# b.experiment.force_cellpy = True  # force to select the cellpy-files\n",
    "# b.experiment.force_raw = True  # force to select the raw files\n",
    "# b.experiment.all_in_memory = True  # store all data in memory, defaults to False\n",
    "# b.save_cellpy = False  # prevent saving the generated cellpy-files \n",
    "# b.last_cycle = 1000  # only load max 1000 cycles"
   ]
  },
  {
   "cell_type": "markdown",
   "metadata": {},
   "source": [
    "## Manually making the journal pages\n",
    "This was used because the typical cellpy install did not work.  it has more flexibility however."
   ]
  },
  {
   "cell_type": "code",
   "execution_count": 9,
   "metadata": {},
   "outputs": [],
   "source": [
    "b.create_journal()"
   ]
  },
  {
   "cell_type": "code",
   "execution_count": 10,
   "metadata": {},
   "outputs": [],
   "source": [
    "b.pages = b.experiment.journal.create_empty_pages()"
   ]
  },
  {
   "cell_type": "code",
   "execution_count": 11,
   "metadata": {},
   "outputs": [
    {
     "data": {
      "text/html": [
       "<div>\n",
       "<style scoped>\n",
       "    .dataframe tbody tr th:only-of-type {\n",
       "        vertical-align: middle;\n",
       "    }\n",
       "\n",
       "    .dataframe tbody tr th {\n",
       "        vertical-align: top;\n",
       "    }\n",
       "\n",
       "    .dataframe thead th {\n",
       "        text-align: right;\n",
       "    }\n",
       "</style>\n",
       "<table border=\"1\" class=\"dataframe\">\n",
       "  <thead>\n",
       "    <tr style=\"text-align: right;\">\n",
       "      <th></th>\n",
       "      <th>mass</th>\n",
       "      <th>total_mass</th>\n",
       "      <th>loading</th>\n",
       "      <th>nom_cap</th>\n",
       "      <th>experiment</th>\n",
       "      <th>fixed</th>\n",
       "      <th>label</th>\n",
       "      <th>cell_type</th>\n",
       "      <th>instrument</th>\n",
       "      <th>raw_file_names</th>\n",
       "      <th>cellpy_file_name</th>\n",
       "      <th>group</th>\n",
       "      <th>sub_group</th>\n",
       "      <th>comment</th>\n",
       "      <th>argument</th>\n",
       "    </tr>\n",
       "    <tr>\n",
       "      <th>filename</th>\n",
       "      <th></th>\n",
       "      <th></th>\n",
       "      <th></th>\n",
       "      <th></th>\n",
       "      <th></th>\n",
       "      <th></th>\n",
       "      <th></th>\n",
       "      <th></th>\n",
       "      <th></th>\n",
       "      <th></th>\n",
       "      <th></th>\n",
       "      <th></th>\n",
       "      <th></th>\n",
       "      <th></th>\n",
       "      <th></th>\n",
       "    </tr>\n",
       "  </thead>\n",
       "  <tbody>\n",
       "  </tbody>\n",
       "</table>\n",
       "</div>"
      ],
      "text/plain": [
       "Empty DataFrame\n",
       "Columns: [mass, total_mass, loading, nom_cap, experiment, fixed, label, cell_type, instrument, raw_file_names, cellpy_file_name, group, sub_group, comment, argument]\n",
       "Index: []"
      ]
     },
     "execution_count": 11,
     "metadata": {},
     "output_type": "execute_result"
    }
   ],
   "source": [
    "b.pages         #  This should generate an empty table with column headers"
   ]
  },
  {
   "cell_type": "code",
   "execution_count": 12,
   "metadata": {},
   "outputs": [],
   "source": [
    "# copy pages and transpose (need to transpose to add a list)\n",
    "temporary_pages = b.pages.copy().T\n",
    "\n"
   ]
  },
  {
   "cell_type": "markdown",
   "metadata": {},
   "source": [
    "SAMPLEs"
   ]
  },
  {
   "cell_type": "code",
   "execution_count": 13,
   "metadata": {},
   "outputs": [],
   "source": [
    "battery01=\"file_name01\"         #  This is the base filename as in cellpy, wihtout numeric or file extensions\n",
    "full_paths_01 = [               #  Each of these lists concantenates each series of data files for each sample\n",
    "    r\"path\\file_nam01_01.res\",\n",
    "    r\"path\\file_nam01_02.res\",\n",
    "    r\"path\\file_nam01_03.res\"\n",
    "\n",
    "]\n",
    "\n"
   ]
  },
  {
   "cell_type": "code",
   "execution_count": 14,
   "metadata": {},
   "outputs": [],
   "source": [
    "battery02=\"file_nam02\"      \n",
    "full_paths_02 = [\n",
    "     r\"path\\file_nam02_01.res\",\n",
    "     r\"path\\file_nam0202.res\",\n",
    "     r\"path\\file_nam02_03.res\"\n",
    "\n",
    "]\n",
    "\n",
    "   \n"
   ]
  },
  {
   "cell_type": "code",
   "execution_count": 15,
   "metadata": {},
   "outputs": [],
   "source": [
    "battery03=\"file_nam03\"\n",
    "full_paths_03 = [\n",
    "     r\"path\\file_nam03\",\n",
    "     r\"path\\file_nam03\"      \n",
    "    ]\n",
    "\n"
   ]
  },
  {
   "cell_type": "markdown",
   "metadata": {},
   "source": [
    "### Set values for your electrodes\n"
   ]
  },
  {
   "cell_type": "code",
   "execution_count": 8,
   "metadata": {},
   "outputs": [],
   "source": [
    "area = 1.767\n",
    "nmc_cathode     =150                    #(mAh/g)  This is for LG series commercial batteries\n",
    "graphite_anode  =350                    #  You can add additional materials and values, but need \n",
    "                                        # to remember to include those in the following cells too.  "
   ]
  },
  {
   "cell_type": "code",
   "execution_count": 17,
   "metadata": {},
   "outputs": [],
   "source": [
    "#  Cell 1  #  file_name01, these are notes for reference.  Helps keep it all organized.\n",
    "total_mass01    = 30.55                 #(mg of materials)\n",
    "Capacity01      = nmc_cathode           # this identifies the material used and simplifies the rest of the code\n",
    "\n",
    "#  Cell 2   # file_name01\n",
    "total_mass02    = 27.98                 #(mg of materials)\n",
    "Capacity02      = nmc_cathode           # (mAh/g)\n",
    "\n",
    "#  Cell 3  # file_name01\n",
    "total_mass03    = 30.050                # (mg of materials)\n",
    "Capacity03      = nmc_cathode           # (mAh/g)"
   ]
  },
  {
   "cell_type": "markdown",
   "metadata": {},
   "source": [
    "### Script that does not need to be changed"
   ]
  },
  {
   "cell_type": "code",
   "execution_count": 18,
   "metadata": {},
   "outputs": [],
   "source": [
    "# Automatically generated values (1 of 2)  This code authomatically distiguishes anode and cathode based on previous entry\n",
    "#  Cell 1\n",
    "if Capacity01 == graphite_anode:\n",
    "    electrode01 = \"anode\"\n",
    "elif Capacity01 == nmc_cathode:\n",
    "    electrode01 = \"cathode\"\n",
    "else:\n",
    "    # Handle the case when Capacity01 is neither graphite_anode nor nmc_cathode\n",
    "    # You can raise an error or set a default value, depending on your needs\n",
    "    raise ValueError(\"Invalid value for Capacity01: \" + str(Capacity01))\n",
    "\n",
    "# Now, you can manually set Capacity01 and have electrode01 automatically generated.\n",
    "# Check the value of electrode and set Capacity02 accordingly\n",
    "# cell 2\n",
    "if Capacity02 == graphite_anode:\n",
    "    electrode02 = \"anode\"\n",
    "elif Capacity02 == nmc_cathode:\n",
    "    electrode02 = \"cathode\"\n",
    "else:\n",
    "    raise ValueError(\"Invalid value for Capacity02: \" + str(Capacity02))\n",
    "\n",
    "#  Cell 3\n",
    "if Capacity03 == graphite_anode:\n",
    "    electrode03 = \"anode\"\n",
    "elif Capacity03 == nmc_cathode:\n",
    "    electrode03 = \"cathode\"\n",
    "else:\n",
    "    raise ValueError(\"Invalid value for Capacity03: \" + str(Capacity03))\n",
    "\n",
    "#   More code can be added.   This template was comparing three cells."
   ]
  },
  {
   "cell_type": "code",
   "execution_count": 19,
   "metadata": {},
   "outputs": [],
   "source": [
    "# For my samples these were 10% inactive. This should be changed for samples that are a different percentage\n",
    "# It should be pointed out there is only one active material in these electrodes, may not be suitable for hybrid\n",
    "# materials.   However, the percent active material is easily changed.\n",
    "\n",
    "#  Cell 1\n",
    "mass01          = 0.9*total_mass01        #(mg of active material only)                                             \n",
    "loading01       = mass01/(area)          # (mg/cm^2) == areal densisity\n",
    "\n",
    "#  Cell 2\n",
    "mass02          = 0.9*total_mass02           \n",
    "loading02       = mass02/(area)          \n",
    "\n",
    "#  Cell 3\n",
    "mass03          = 0.9*total_mass03      \n",
    "loading03       = mass03/(area)        "
   ]
  },
  {
   "cell_type": "markdown",
   "metadata": {},
   "source": [
    "Continuing....."
   ]
  },
  {
   "cell_type": "code",
   "execution_count": 20,
   "metadata": {},
   "outputs": [],
   "source": [
    "# manually create a list for each cell.  Thid code does not need to be changed.\n",
    "\n",
    "cell01 = [mass01, total_mass01,loading01, Capacity01, None, False, \"battery01\", \"anode\", \"arbin_res\", full_paths_01, battery01+\".h5\", 1, 1, None, None]\n",
    "\n",
    "cell02 = [mass02, total_mass02, loading02, Capacity02, None, False, \"battery02\", \"anode\", \"arbin_res\", full_paths_02, battery02+\".h5\", 2, 1, None, None]\n",
    "\n",
    "cell03 = [mass03, total_mass03, loading03, Capacity03, None, False, \"battery03\", \"anode\", \"arbin_res\", full_paths_03, battery03+\".h5\", 3, 1, None, None]\n",
    "\n",
    "\n",
    "\n"
   ]
  },
  {
   "cell_type": "code",
   "execution_count": 22,
   "metadata": {},
   "outputs": [],
   "source": [
    "# add each list to the temporary dataframe (temporary pages)\n",
    "temporary_pages[(battery01)] = cell01\n",
    "temporary_pages[(battery02)] = cell02\n",
    "temporary_pages[(battery03)] = cell03\n",
    "\n"
   ]
  },
  {
   "cell_type": "code",
   "execution_count": 23,
   "metadata": {},
   "outputs": [],
   "source": [
    "# transpose to proper format and assign to your journal\n",
    "b.pages = temporary_pages.T\n"
   ]
  },
  {
   "cell_type": "code",
   "execution_count": 24,
   "metadata": {},
   "outputs": [
    {
     "data": {
      "text/html": [
       "<div>\n",
       "<style scoped>\n",
       "    .dataframe tbody tr th:only-of-type {\n",
       "        vertical-align: middle;\n",
       "    }\n",
       "\n",
       "    .dataframe tbody tr th {\n",
       "        vertical-align: top;\n",
       "    }\n",
       "\n",
       "    .dataframe thead th {\n",
       "        text-align: right;\n",
       "    }\n",
       "</style>\n",
       "<table border=\"1\" class=\"dataframe\">\n",
       "  <thead>\n",
       "    <tr style=\"text-align: right;\">\n",
       "      <th></th>\n",
       "      <th>mass</th>\n",
       "      <th>total_mass</th>\n",
       "      <th>loading</th>\n",
       "      <th>nom_cap</th>\n",
       "      <th>experiment</th>\n",
       "      <th>fixed</th>\n",
       "      <th>label</th>\n",
       "      <th>cell_type</th>\n",
       "      <th>instrument</th>\n",
       "      <th>raw_file_names</th>\n",
       "      <th>cellpy_file_name</th>\n",
       "      <th>group</th>\n",
       "      <th>sub_group</th>\n",
       "      <th>comment</th>\n",
       "      <th>argument</th>\n",
       "    </tr>\n",
       "    <tr>\n",
       "      <th>filename</th>\n",
       "      <th></th>\n",
       "      <th></th>\n",
       "      <th></th>\n",
       "      <th></th>\n",
       "      <th></th>\n",
       "      <th></th>\n",
       "      <th></th>\n",
       "      <th></th>\n",
       "      <th></th>\n",
       "      <th></th>\n",
       "      <th></th>\n",
       "      <th></th>\n",
       "      <th></th>\n",
       "      <th></th>\n",
       "      <th></th>\n",
       "    </tr>\n",
       "  </thead>\n",
       "  <tbody>\n",
       "    <tr>\n",
       "      <th>20220705_JP3_post_mortem_502K_15_02</th>\n",
       "      <td>27.495</td>\n",
       "      <td>30.55</td>\n",
       "      <td>15.560272</td>\n",
       "      <td>150</td>\n",
       "      <td>None</td>\n",
       "      <td>False</td>\n",
       "      <td>battery01</td>\n",
       "      <td>anode</td>\n",
       "      <td>arbin_res</td>\n",
       "      <td>[c:\\scripting\\cellpy_data\\Raw\\20220705_JP3_pos...</td>\n",
       "      <td>20220705_JP3_post_mortem_502K_15_02.h5</td>\n",
       "      <td>1</td>\n",
       "      <td>1</td>\n",
       "      <td>None</td>\n",
       "      <td>None</td>\n",
       "    </tr>\n",
       "    <tr>\n",
       "      <th>20220705_JP3_post_mortem_626K_3_02_cc</th>\n",
       "      <td>25.182</td>\n",
       "      <td>27.98</td>\n",
       "      <td>14.251273</td>\n",
       "      <td>150</td>\n",
       "      <td>None</td>\n",
       "      <td>False</td>\n",
       "      <td>battery02</td>\n",
       "      <td>anode</td>\n",
       "      <td>arbin_res</td>\n",
       "      <td>[c:\\scripting\\cellpy_data\\Raw\\20220705_JP3_pos...</td>\n",
       "      <td>20220705_JP3_post_mortem_626K_3_02_cc.h5</td>\n",
       "      <td>2</td>\n",
       "      <td>1</td>\n",
       "      <td>None</td>\n",
       "      <td>None</td>\n",
       "    </tr>\n",
       "    <tr>\n",
       "      <th>20230804_T4_592K26t2_01_cc</th>\n",
       "      <td>27.045</td>\n",
       "      <td>30.05</td>\n",
       "      <td>15.305603</td>\n",
       "      <td>150</td>\n",
       "      <td>None</td>\n",
       "      <td>False</td>\n",
       "      <td>battery03</td>\n",
       "      <td>anode</td>\n",
       "      <td>arbin_res</td>\n",
       "      <td>[c:\\scripting\\cellpy_data\\Raw\\20230804_T4_592K...</td>\n",
       "      <td>20230804_T4_592K26t2_01_cc.h5</td>\n",
       "      <td>3</td>\n",
       "      <td>1</td>\n",
       "      <td>None</td>\n",
       "      <td>None</td>\n",
       "    </tr>\n",
       "  </tbody>\n",
       "</table>\n",
       "</div>"
      ],
      "text/plain": [
       "                                         mass total_mass    loading nom_cap  \\\n",
       "filename                                                                      \n",
       "20220705_JP3_post_mortem_502K_15_02    27.495      30.55  15.560272     150   \n",
       "20220705_JP3_post_mortem_626K_3_02_cc  25.182      27.98  14.251273     150   \n",
       "20230804_T4_592K26t2_01_cc             27.045      30.05  15.305603     150   \n",
       "\n",
       "                                      experiment  fixed      label cell_type  \\\n",
       "filename                                                                       \n",
       "20220705_JP3_post_mortem_502K_15_02         None  False  battery01     anode   \n",
       "20220705_JP3_post_mortem_626K_3_02_cc       None  False  battery02     anode   \n",
       "20230804_T4_592K26t2_01_cc                  None  False  battery03     anode   \n",
       "\n",
       "                                      instrument  \\\n",
       "filename                                           \n",
       "20220705_JP3_post_mortem_502K_15_02    arbin_res   \n",
       "20220705_JP3_post_mortem_626K_3_02_cc  arbin_res   \n",
       "20230804_T4_592K26t2_01_cc             arbin_res   \n",
       "\n",
       "                                                                          raw_file_names  \\\n",
       "filename                                                                                   \n",
       "20220705_JP3_post_mortem_502K_15_02    [c:\\scripting\\cellpy_data\\Raw\\20220705_JP3_pos...   \n",
       "20220705_JP3_post_mortem_626K_3_02_cc  [c:\\scripting\\cellpy_data\\Raw\\20220705_JP3_pos...   \n",
       "20230804_T4_592K26t2_01_cc             [c:\\scripting\\cellpy_data\\Raw\\20230804_T4_592K...   \n",
       "\n",
       "                                                               cellpy_file_name  \\\n",
       "filename                                                                          \n",
       "20220705_JP3_post_mortem_502K_15_02      20220705_JP3_post_mortem_502K_15_02.h5   \n",
       "20220705_JP3_post_mortem_626K_3_02_cc  20220705_JP3_post_mortem_626K_3_02_cc.h5   \n",
       "20230804_T4_592K26t2_01_cc                        20230804_T4_592K26t2_01_cc.h5   \n",
       "\n",
       "                                      group sub_group comment argument  \n",
       "filename                                                                \n",
       "20220705_JP3_post_mortem_502K_15_02       1         1    None     None  \n",
       "20220705_JP3_post_mortem_626K_3_02_cc     2         1    None     None  \n",
       "20230804_T4_592K26t2_01_cc                3         1    None     None  "
      ]
     },
     "execution_count": 24,
     "metadata": {},
     "output_type": "execute_result"
    }
   ],
   "source": [
    "b.pages         # this will generate a list as before, but will be filled in with sample data for verification."
   ]
  },
  {
   "cell_type": "markdown",
   "metadata": {},
   "source": [
    "### Create the journal and appropriate folder structure\n"
   ]
  },
  {
   "cell_type": "code",
   "execution_count": 25,
   "metadata": {},
   "outputs": [],
   "source": [
    "b.paginate()                                # Create the apropriate folders"
   ]
  },
  {
   "cell_type": "code",
   "execution_count": 26,
   "metadata": {},
   "outputs": [],
   "source": [
    "b.save_journal()                            # save the journal file"
   ]
  },
  {
   "cell_type": "markdown",
   "metadata": {},
   "source": [
    "### Make sure one more time that working directory is correct "
   ]
  },
  {
   "cell_type": "code",
   "execution_count": 27,
   "metadata": {},
   "outputs": [],
   "source": [
    "# b.pages                                     # Show the journal pages"
   ]
  },
  {
   "cell_type": "code",
   "execution_count": 28,
   "metadata": {},
   "outputs": [],
   "source": [
    "b.duplicate_journal()                         "
   ]
  },
  {
   "cell_type": "markdown",
   "metadata": {},
   "source": [
    "## 2. Loading data"
   ]
  },
  {
   "cell_type": "code",
   "execution_count": 29,
   "metadata": {},
   "outputs": [
    {
     "data": {
      "application/vnd.jupyter.widget-view+json": {
       "model_id": "3f4f9a220931424580f4e99b343571ae",
       "version_major": 2,
       "version_minor": 0
      },
      "text/plain": [
       "  0%|          | 0/3 [00:00<?, ?it/s]"
      ]
     },
     "metadata": {},
     "output_type": "display_data"
    }
   ],
   "source": [
    "b.update()                                    # this compliles the data into hdf5 files for plotting"
   ]
  },
  {
   "cell_type": "markdown",
   "metadata": {},
   "source": [
    "#### Modify the pages"
   ]
  },
  {
   "cell_type": "code",
   "execution_count": 30,
   "metadata": {},
   "outputs": [],
   "source": [
    "npages = b.pages.copy()                     # make a copy of pages (in case you do something stupid)"
   ]
  },
  {
   "cell_type": "markdown",
   "metadata": {},
   "source": [
    "set the updated dataframe as your new pages"
   ]
  },
  {
   "cell_type": "code",
   "execution_count": 31,
   "metadata": {},
   "outputs": [],
   "source": [
    "b.save_journal()                            # if you have made any changes to your journal pages, you should save it again.\n",
    "\n",
    "b.pages = npages"
   ]
  },
  {
   "cell_type": "markdown",
   "metadata": {},
   "source": [
    "#### Recalculate and link\n",
    "If you have changed parameters that `cellpy` uses internally in its calculations, such as nominal capacity or mass, you will have to do a recalculation. \n",
    "If you have removed cells, you will need to do a new linking."
   ]
  },
  {
   "cell_type": "markdown",
   "metadata": {},
   "source": [
    "## 3. Initial investigation of the batch experiment"
   ]
  },
  {
   "cell_type": "markdown",
   "metadata": {},
   "source": [
    "### 3.1 Summaries"
   ]
  },
  {
   "cell_type": "code",
   "execution_count": 32,
   "metadata": {},
   "outputs": [],
   "source": [
    "b.combine_summaries()                   # Collect summary-data (e.g. charge capacity vs cycle number) from each cell and export to .csv-file(s)."
   ]
  },
  {
   "cell_type": "code",
   "execution_count": 9,
   "metadata": {},
   "outputs": [],
   "source": [
    "# b.plot_summaries()                      # Plot the charge capacity and the C.E. (and resistance) vs. cycle number (standard plot)\n",
    "                                          # this is not presently working in the manual loader.  It has worked before but intermittently."
   ]
  },
  {
   "cell_type": "markdown",
   "metadata": {},
   "source": [
    "### Cell information\n",
    "for JP3 anodes 4.5 and Cathodes ~2.5mAh/cm2\n"
   ]
  },
  {
   "cell_type": "code",
   "execution_count": 34,
   "metadata": {},
   "outputs": [],
   "source": [
    "b.link()                                                    # or b.update() if you would like to get new data from the tester.\n",
    "\n",
    "cell_labels = b.experiment.cell_names                       #  print(\" cell labels: \")\n",
    "\n",
    "# cell_labels                                               #  This displays cell labels if you want\n",
    "\n"
   ]
  },
  {
   "cell_type": "code",
   "execution_count": 35,
   "metadata": {},
   "outputs": [],
   "source": [
    "cell_data01 = b.experiment.data[battery01]\n",
    "cell_data02 = b.experiment.data[battery02]\n",
    "cell_data03 = b.experiment.data[battery03]\n",
    "\n",
    "mass1 = mass01/1000                                 #  converts mass = mg to mass = grams\n",
    "mass2 = mass02/1000                                 \n",
    "mass3 = mass03/1000\n",
    "                                                    \n",
    "area = 1.767                                        # areas in cm^2, 1.767 for 15mm punched electrode\n",
    "\n",
    "# what cycle do you want to see?\n",
    "cycle_numbers = [3]                               #  This will carry down to all the cells below.  \n",
    "                                                  #  for n in x:"
   ]
  },
  {
   "cell_type": "code",
   "execution_count": 36,
   "metadata": {},
   "outputs": [],
   "source": [
    "#   These were left in the event more cells are added to the manual loader.   Note the scripts are basically the same as before.\n",
    "# cell_data04 = b.experiment.data[battery04]\n",
    "# cell_data05 = b.experiment.data[battery05]\n",
    "# cell_data06 = b.experiment.data[battery06]\n",
    "# cell_data07 = b.experiment.data[battery07]\n",
    "# cell_data08 = b.experiment.data[battery08]\n",
    "# cell_data09 = b.experiment.data[battery09]\n",
    "# # cell_data10 = b.experiment.data[battery10]\n",
    "\n",
    "# mass4 = mass04/1000                                 #  mass = grams\n",
    "# mass5 = mass05/1000                                 \n",
    "# mass6 = mass06/1000\n",
    "# mass7 = mass07/1000                                \n",
    "# mass8 = mass08/1000                                 \n",
    "# mass9 = mass09/1000\n",
    "# # mass10 = mass10/1000                                "
   ]
  },
  {
   "cell_type": "markdown",
   "metadata": {},
   "source": [
    "## compile and export area/mass graphs"
   ]
  },
  {
   "cell_type": "code",
   "execution_count": 38,
   "metadata": {},
   "outputs": [],
   "source": [
    "#  Please refer to Cellpy documentations to change chart type. The preferred here is \"forth and forth\"\n",
    "\n",
    "# This is for areal capacity calculations\n",
    "\n",
    "capacity_voltage1 = cell_data01.get_cap(cycle_numbers, label_cycle_number=True, method=\"forth-and-forth\")\n",
    "capacity_voltage2 = cell_data02.get_cap(cycle_numbers, label_cycle_number=True, method=\"forth-and-forth\")\n",
    "capacity_voltage3 = cell_data03.get_cap(cycle_numbers, label_cycle_number=True, method=\"forth-and-forth\")\n",
    "\n",
    "#  These were left for adding more cells if desired.\n",
    "# capacity_voltage4 = cell_data04.get_cap(cycle_numbers, label_cycle_number=True, method=\"forth-and-forth\")\n",
    "# capacity_voltage5 = cell_data05.get_cap(cycle_numbers, label_cycle_number=True, method=\"forth-and-forth\")\n",
    "# capacity_voltage6 = cell_data06.get_cap(cycle_numbers, label_cycle_number=True, method=\"forth-and-forth\")\n",
    "# capacity_voltage7 = cell_data07.get_cap(cycle_numbers, label_cycle_number=True, method=\"forth-and-forth\")\n",
    "# capacity_voltage8 = cell_data08.get_cap(cycle_numbers, label_cycle_number=True, method=\"forth-and-forth\")\n",
    "# capacity_voltage9 = cell_data09.get_cap(cycle_numbers, label_cycle_number=True, method=\"forth-and-forth\")\n"
   ]
  },
  {
   "cell_type": "code",
   "execution_count": 39,
   "metadata": {},
   "outputs": [],
   "source": [
    "capacity_voltage1.capacity = capacity_voltage1.capacity * mass1/(area)\n",
    "capacity_voltage2.capacity = capacity_voltage2.capacity * mass2/(area)\n",
    "capacity_voltage3.capacity = capacity_voltage3.capacity * mass3/(area)\n",
    "\n",
    "#  These were left for adding more cells if desired.\n",
    "# capacity_voltage4.capacity = capacity_voltage4.capacity * mass4/(area)\n",
    "# capacity_voltage5.capacity = capacity_voltage5.capacity * mass5/(area)\n",
    "# capacity_voltage6.capacity = capacity_voltage6.capacity * mass6/(area)\n",
    "# capacity_voltage7.capacity = capacity_voltage7.capacity * mass7/(area)\n",
    "# capacity_voltage8.capacity = capacity_voltage8.capacity * mass8/(area)\n",
    "# capacity_voltage9.capacity = capacity_voltage9.capacity * mass9/(area)\n",
    "\n"
   ]
  },
  {
   "cell_type": "markdown",
   "metadata": {},
   "source": [
    "### now do mass"
   ]
  },
  {
   "cell_type": "code",
   "execution_count": 40,
   "metadata": {},
   "outputs": [],
   "source": [
    "capacity_mass1 = cell_data01.get_cap(cycle_numbers, label_cycle_number=True, method=\"forth-and-forth\")\n",
    "capacity_mass1.capacity = capacity_mass1.capacity / mass1 \n",
    "\n",
    "capacity_mass2 = cell_data02.get_cap(cycle_numbers, label_cycle_number=True, method=\"forth-and-forth\")\n",
    "capacity_mass2.capacity = capacity_mass2.capacity /mass2\n",
    "\n",
    "capacity_mass3 = cell_data03.get_cap(cycle_numbers, label_cycle_number=True, method=\"forth-and-forth\")\n",
    "capacity_mass3.capacity = capacity_mass3.capacity / mass3\n"
   ]
  },
  {
   "cell_type": "code",
   "execution_count": 41,
   "metadata": {},
   "outputs": [],
   "source": [
    "#  These were left for adding more cells if desired.\n",
    "\n",
    "# capacity_mass4 = cell_data04.get_cap(cycle_numbers, label_cycle_number=True, method=\"forth-and-forth\")\n",
    "# capacity_mass4.capacity = capacity_mass4.capacity \n",
    "\n",
    "# capacity_mass5 = cell_data05.get_cap(cycle_numbers, label_cycle_number=True, method=\"forth-and-forth\")\n",
    "# capacity_mass5.capacity = capacity_mass5.capacity \n",
    "\n",
    "# capacity_mass6 = cell_data06.get_cap(cycle_numbers, label_cycle_number=True, method=\"forth-and-forth\")\n",
    "# capacity_mass6.capacity = capacity_mass6.capacity \n",
    "\n",
    "# capacity_mass7 = cell_data07.get_cap(cycle_numbers, label_cycle_number=True, method=\"forth-and-forth\")\n",
    "# capacity_mass7.capacity = capacity_mass7.capacity \n",
    "\n",
    "# capacity_mass8 = cell_data08.get_cap(cycle_numbers, label_cycle_number=True, method=\"forth-and-forth\")\n",
    "# capacity_mass8.capacity = capacity_mass8.capacity \n",
    "\n",
    "# capacity_mass9 = cell_data09.get_cap(cycle_numbers, label_cycle_number=True, method=\"forth-and-forth\")\n",
    "# capacity_mass9.capacity = capacity_mass9.capacity \n",
    "\n",
    "\n"
   ]
  },
  {
   "cell_type": "markdown",
   "metadata": {},
   "source": [
    "## Plot"
   ]
  },
  {
   "cell_type": "code",
   "execution_count": 42,
   "metadata": {},
   "outputs": [
    {
     "data": {
      "image/png": "[encoded data removed]",
      "text/plain": [
       "<Figure size 640x480 with 2 Axes>"
      ]
     },
     "metadata": {},
     "output_type": "display_data"
    }
   ],
   "source": [
    "# Script 1: Plotting voltage versus capacity area\n",
    "fig, ax1 = plt.subplots()\n",
    "\n",
    "g_area = capacity_voltage1.groupby(\"cycle\")\n",
    "for cycle_number, frame in g_area:\n",
    "    ax1.plot(frame.capacity, frame.voltage, label=f'Cycle {cycle_number}')\n",
    "ax1.set_xlabel('Capacity Area (mAh/cm^2)')\n",
    "ax1.set_ylabel('Voltage')\n",
    "# ax1.legend()\n",
    "\n",
    "# Create a twin x-axis for capacity mass\n",
    "ax2 = ax1.twiny()\n",
    "\n",
    "# Script 2: Plotting voltage versus capacity mass on the twin x-axis\n",
    "g_mass = capacity_mass1.groupby(\"cycle\")\n",
    "for cycle_number, frame in g_mass:\n",
    "    ax2.plot(frame.capacity, frame.voltage, label=f'Cycle {cycle_number} (Mass)')\n",
    "ax2.set_xlabel('Capacity Mass (mAh/g)')\n",
    "\n",
    "ax2.legend(loc='lower left')\n",
    "\n",
    "plt.title(battery01, fontsize=8, loc='right')   # Adjust the fontsize as needed\n",
    "\n",
    "# Adjust the position of the x-axis label for ax2\n",
    "ax2.xaxis.set_label_coords(0.7, 0.95)           # Adjust the values to move the label below the x2 axis\n",
    "\n",
    "ax2.xaxis.label.set_fontsize(10)                # Adjust the font size as needed\n",
    "\n",
    "# Show the plot\n",
    "plt.show()\n"
   ]
  },
  {
   "cell_type": "code",
   "execution_count": 43,
   "metadata": {},
   "outputs": [],
   "source": [
    "# Construct the full path to save the file in the specified folder\n",
    "file_name_1 = os.path.join(file_path01, os.path.basename(f\"{battery01}_mass&area_Cycle{cycle_number}\") + \".jpg\")\n",
    "file_name_1a = os.path.join(file_path02, os.path.basename(f\"{battery01}_mass&area_Cycle{cycle_number}\") + \".jpg\")\n",
    "\n",
    "# Save the figure without including the folder name\n",
    "fig.savefig(file_name_1, dpi=300)\n",
    "fig.savefig(file_name_1a, dpi=300)"
   ]
  },
  {
   "cell_type": "markdown",
   "metadata": {},
   "source": [
    "Extract final data points (n).  Here, =3 and was set above as cycle_number"
   ]
  },
  {
   "cell_type": "code",
   "execution_count": null,
   "metadata": {},
   "outputs": [],
   "source": [
    "# For capacity charge area plot\n",
    "g_area = capacity_voltage1.groupby(\"cycle\")\n",
    "for cycle_number, frame in g_area:\n",
    "    last_three_area = frame.tail(3)                                 #  frame.tail(3) where 3= number of data points\n",
    "    display(Markdown(f'### Cycle {cycle_number} - Area Charge Cap'))\n",
    "    display(last_three_area[['capacity', 'voltage']])\n",
    "\n",
    "# For discharge areal capacity plot\n",
    "g_discharge = capacity_voltage1[capacity_voltage1['voltage'] <= 2.52].groupby(\"cycle\")  # Matplot lib cannot automatically find\n",
    "for cycle_number, frame in g_discharge:                                                 # the last discharge points, you have to \n",
    "    last_three_discharge = frame.tail(3)                                                # narrow it down.  2.52 worked here.\n",
    "    display(Markdown(f'### Cycle {cycle_number} - Area Discharge Cap'))\n",
    "    display(last_three_discharge[['capacity', 'voltage']])\n",
    "    \n",
    "# For capacity mass plot\n",
    "# Assuming you have a similar DataFrame for capacity_mass1\n",
    "g_mass = capacity_mass1.groupby(\"cycle\")\n",
    "for cycle_number, frame in g_mass:\n",
    "    last_three_mass = frame.tail(3)\n",
    "    display(Markdown(f'### Cycle {cycle_number} - mass charge Cap'))\n",
    "    display(last_three_mass[['capacity', 'voltage']])\n",
    "    \n",
    "    # For discharge mass capacity plot\n",
    "g_discharge_mass = capacity_mass1[capacity_mass1['voltage'] <= 2.52].groupby(\"cycle\")\n",
    "for cycle_number, frame in g_discharge_mass:\n",
    "    last_three_discharge_mass = frame.tail(3)\n",
    "    display(Markdown(f'### Cycle {cycle_number} - Mass Discharge Cap'))\n",
    "    display(last_three_discharge_mass[['capacity', 'voltage']])\n"
   ]
  },
  {
   "cell_type": "markdown",
   "metadata": {},
   "source": [
    "Cell 2"
   ]
  },
  {
   "cell_type": "code",
   "execution_count": 45,
   "metadata": {},
   "outputs": [
    {
     "data": {
      "image/png": "[encoded data removed]",
      "text/plain": [
       "<Figure size 640x480 with 2 Axes>"
      ]
     },
     "metadata": {},
     "output_type": "display_data"
    }
   ],
   "source": [
    "# Script 1: Plotting voltage versus capacity area\n",
    "fig, ax1 = plt.subplots()\n",
    "\n",
    "g_area = capacity_voltage2.groupby(\"cycle\")\n",
    "for cycle_number, frame in g_area:\n",
    "    ax1.plot(frame.capacity, frame.voltage, label=f'Cycle {cycle_number}')\n",
    "ax1.set_xlabel('Capacity Area (mAh/cm^2)')\n",
    "ax1.set_ylabel('Voltage')\n",
    "# ax1.legend()\n",
    "\n",
    "# Create a twin x-axis for capacity mass\n",
    "ax2 = ax1.twiny()\n",
    "\n",
    "# Script 2: Plotting voltage versus capacity mass on the twin x-axis\n",
    "g_mass = capacity_mass2.groupby(\"cycle\")\n",
    "for cycle_number, frame in g_mass:\n",
    "    ax2.plot(frame.capacity, frame.voltage, label=f'Cycle {cycle_number} (Mass)')\n",
    "ax2.set_xlabel('Capacity Mass (mAh/g)')\n",
    "\n",
    "ax2.legend(loc='lower left')\n",
    "\n",
    "plt.title(battery02, fontsize=8, loc='right')  # Adjust the fontsize as needed\n",
    "\n",
    "# Adjust the position of the x-axis label for ax2\n",
    "ax2.xaxis.set_label_coords(0.5, 0.95)  # Adjust the values to move the label below the x2 axis\n",
    "\n",
    "\n",
    "# Show the plot\n",
    "plt.show()"
   ]
  },
  {
   "cell_type": "code",
   "execution_count": null,
   "metadata": {},
   "outputs": [],
   "source": [
    "# Construct the full path to save the file in the specified folder\n",
    "file_name_2 = os.path.join(file_path01, os.path.basename(f\"{battery02}_mass&area_Cycle{cycle_number}\") + \".jpg\")\n",
    "file_name_2a = os.path.join(file_path02, os.path.basename(f\"{battery02}_mass&area_Cycle{cycle_number}\") + \".jpg\")\n",
    "\n",
    "# Save the figure without including the folder name\n",
    "fig.savefig(file_name_2, dpi=300)\n",
    "fig.savefig(file_name_2a, dpi=300)"
   ]
  },
  {
   "cell_type": "markdown",
   "metadata": {},
   "source": [
    "Extract last n data points for cell 2"
   ]
  },
  {
   "cell_type": "code",
   "execution_count": null,
   "metadata": {},
   "outputs": [],
   "source": [
    "# For capacity charge area plot\n",
    "g_area = capacity_voltage2.groupby(\"cycle\")\n",
    "for cycle_number, frame in g_area:\n",
    "    last_three_area = frame.tail(3)\n",
    "    display(Markdown(f'### Cycle {cycle_number} - Area Charge Cap'))\n",
    "    display(last_three_area[['capacity', 'voltage']])\n",
    "\n",
    "# For discharge areal capacity plot\n",
    "g_discharge = capacity_voltage2[capacity_voltage2['voltage'] <= 2.52].groupby(\"cycle\")\n",
    "for cycle_number, frame in g_discharge:\n",
    "    last_three_discharge = frame.tail(3)\n",
    "    display(Markdown(f'### Cycle {cycle_number} - Area Discharge Cap'))\n",
    "    display(last_three_discharge[['capacity', 'voltage']])\n",
    "    \n",
    "# For capacity mass plot\n",
    "# Assuming you have a similar DataFrame for capacity_mass2\n",
    "g_mass = capacity_mass2.groupby(\"cycle\")\n",
    "for cycle_number, frame in g_mass:\n",
    "    last_three_mass = frame.tail(3)\n",
    "    display(Markdown(f'### Cycle {cycle_number} - mass charge Cap'))\n",
    "    display(last_three_mass[['capacity', 'voltage']])\n",
    "    \n",
    "    # For discharge mass capacity plot\n",
    "g_discharge_mass = capacity_mass2[capacity_mass2['voltage'] <= 2.52].groupby(\"cycle\")\n",
    "for cycle_number, frame in g_discharge_mass:\n",
    "    last_three_discharge_mass = frame.tail(3)\n",
    "    display(Markdown(f'### Cycle {cycle_number} - Mass Discharge Cap'))\n",
    "    display(last_three_discharge_mass[['capacity', 'voltage']])\n"
   ]
  },
  {
   "cell_type": "markdown",
   "metadata": {},
   "source": [
    "Cell 3"
   ]
  },
  {
   "cell_type": "code",
   "execution_count": 47,
   "metadata": {},
   "outputs": [
    {
     "data": {
      "image/png": "[encoded data removed]",
      "text/plain": [
       "<Figure size 640x480 with 2 Axes>"
      ]
     },
     "metadata": {},
     "output_type": "display_data"
    }
   ],
   "source": [
    "# Script 1: Plotting voltage versus capacity area\n",
    "fig, ax1 = plt.subplots()\n",
    "\n",
    "g_area = capacity_voltage3.groupby(\"cycle\")\n",
    "for cycle_number, frame in g_area:\n",
    "    ax1.plot(frame.capacity, frame.voltage, label=f'Cycle {cycle_number}')\n",
    "ax1.set_xlabel('Capacity Area (mAh/cm^2)')\n",
    "ax1.set_ylabel('Voltage')\n",
    "ax1.legend()\n",
    "\n",
    "# Create a twin x-axis for capacity mass\n",
    "ax2 = ax1.twiny()\n",
    "\n",
    "# Script 2: Plotting voltage versus capacity mass on the twin x-axis\n",
    "g_mass = capacity_mass3.groupby(\"cycle\")\n",
    "for cycle_number, frame in g_mass:\n",
    "    ax2.plot(frame.capacity, frame.voltage, label=f'Cycle {cycle_number} (Mass)')\n",
    "ax2.set_xlabel('Capacity Mass (mAh/g)')\n",
    "\n",
    "# Combine legends from both x-axes\n",
    "# lines1, labels1 = ax1.get_legend_handles_labels()\n",
    "# lines2, labels2 = ax2.get_legend_handles_labels()\n",
    "# ax2.legend(lines1 + lines2, labels1 + labels2, loc='upper left')\n",
    "\n",
    "plt.title(battery03, fontsize=8, loc='right')  # Adjust the fontsize as needed\n",
    "\n",
    "# Adjust the position of the x-axis label for ax2\n",
    "ax2.xaxis.set_label_coords(0.5, 0.95)  # Adjust the values to move the label below the x2 axis\n",
    "\n",
    "#  ax2.xaxis.label.set_fontsize(10)  # Adjust the font size as needed\n",
    "\n",
    "\n",
    "# Show the plot\n",
    "plt.show()"
   ]
  },
  {
   "cell_type": "code",
   "execution_count": null,
   "metadata": {},
   "outputs": [],
   "source": [
    "# Construct the full path to save the file in the specified folder\n",
    "file_name_3 = os.path.join(file_path01, os.path.basename(f\"{battery03}_mass&area_Cycle{cycle_number}\") + \".jpg\")\n",
    "file_name_3a = os.path.join(file_path02, os.path.basename(f\"{battery03}_mass&area_Cycle{cycle_number}\") + \".jpg\")\n",
    "\n",
    "# Save the figure without including the folder name\n",
    "fig.savefig(file_name_3, dpi=300)\n",
    "fig.savefig(file_name_3a, dpi=300)"
   ]
  },
  {
   "cell_type": "markdown",
   "metadata": {},
   "source": [
    "Extract last n points for cell 3"
   ]
  },
  {
   "cell_type": "code",
   "execution_count": null,
   "metadata": {},
   "outputs": [],
   "source": [
    "# For capacity charge area plot\n",
    "g_area = capacity_voltage3.groupby(\"cycle\")\n",
    "for cycle_number, frame in g_area:\n",
    "    last_three_area = frame.tail(3)\n",
    "    display(Markdown(f'### Cycle {cycle_number} - Area Charge Cap'))\n",
    "    display(last_three_area[['capacity', 'voltage']])\n",
    "\n",
    "# For discharge areal capacity plot\n",
    "g_discharge = capacity_voltage3[capacity_voltage3['voltage'] <= 2.52].groupby(\"cycle\")\n",
    "for cycle_number, frame in g_discharge:\n",
    "    last_three_discharge = frame.tail(3)\n",
    "    display(Markdown(f'### Cycle {cycle_number} - Area Discharge Cap'))\n",
    "    display(last_three_discharge[['capacity', 'voltage']])\n",
    "    \n",
    "# For capacity mass plot\n",
    "# Assuming you have a similar DataFrame for capacity_mass2\n",
    "g_mass = capacity_mass3.groupby(\"cycle\")\n",
    "for cycle_number, frame in g_mass:\n",
    "    last_three_mass = frame.tail(3)\n",
    "    display(Markdown(f'### Cycle {cycle_number} - mass charge Cap'))\n",
    "    display(last_three_mass[['capacity', 'voltage']])\n",
    "    \n",
    "    # For discharge mass capacity plot\n",
    "g_discharge_mass = capacity_mass3[capacity_mass3['voltage'] <= 2.52].groupby(\"cycle\")\n",
    "for cycle_number, frame in g_discharge_mass:\n",
    "    last_three_discharge_mass = frame.tail(3)\n",
    "    display(Markdown(f'### Cycle {cycle_number} - Mass Discharge Cap'))\n",
    "    display(last_three_discharge_mass[['capacity', 'voltage']])\n"
   ]
  },
  {
   "cell_type": "markdown",
   "metadata": {},
   "source": [
    "**Overlay**"
   ]
  },
  {
   "cell_type": "code",
   "execution_count": 49,
   "metadata": {},
   "outputs": [
    {
     "data": {
      "text/plain": [
       "'20220705_JP3_post_mortem_502K_15_02'"
      ]
     },
     "execution_count": 49,
     "metadata": {},
     "output_type": "execute_result"
    }
   ],
   "source": [
    "battery01               # check which cells if desired"
   ]
  },
  {
   "cell_type": "code",
   "execution_count": 50,
   "metadata": {},
   "outputs": [
    {
     "data": {
      "text/plain": [
       "'20220705_JP3_post_mortem_626K_3_02_cc'"
      ]
     },
     "execution_count": 50,
     "metadata": {},
     "output_type": "execute_result"
    }
   ],
   "source": [
    "battery02\n"
   ]
  },
  {
   "cell_type": "code",
   "execution_count": 51,
   "metadata": {},
   "outputs": [
    {
     "data": {
      "text/plain": [
       "'20230804_T4_592K26t2_01_cc'"
      ]
     },
     "execution_count": 51,
     "metadata": {},
     "output_type": "execute_result"
    }
   ],
   "source": [
    "battery03"
   ]
  },
  {
   "cell_type": "code",
   "execution_count": null,
   "metadata": {},
   "outputs": [],
   "source": [
    "# Define the cycle numbers you want to plot\n",
    "cycle_numbers_to_plot = [3]"
   ]
  },
  {
   "cell_type": "code",
   "execution_count": 94,
   "metadata": {},
   "outputs": [],
   "source": [
    "#  you can add labels for each cell if they differe from teh file name (mine are really long)\n",
    "cell_1 = \"Lot 502K\"         #should reflect battery01 in some way.  Likewise the rest\n",
    "cell_2 = \"Lot 626K\"\n",
    "cell_3 = \"Lot 592K\"\n",
    "\n"
   ]
  },
  {
   "cell_type": "markdown",
   "metadata": {},
   "source": [
    "Overlay plot 1 and Plot 2"
   ]
  },
  {
   "cell_type": "code",
   "execution_count": 10,
   "metadata": {},
   "outputs": [
    {
     "ename": "NameError",
     "evalue": "name 'capacity_voltage1' is not defined",
     "output_type": "error",
     "traceback": [
      "\u001b[1;31m---------------------------------------------------------------------------\u001b[0m",
      "\u001b[1;31mNameError\u001b[0m                                 Traceback (most recent call last)",
      "Cell \u001b[1;32mIn[10], line 5\u001b[0m\n\u001b[0;32m      1\u001b[0m \u001b[38;5;66;03m#   Note:   This is only for areal capacity.  Overlays of mass capacity can be done, but both together cannot be done \u001b[39;00m\n\u001b[0;32m      2\u001b[0m \u001b[38;5;66;03m#   for multiple samples\u001b[39;00m\n\u001b[0;32m      3\u001b[0m fig, ax1 \u001b[38;5;241m=\u001b[39m plt\u001b[38;5;241m.\u001b[39msubplots()\n\u001b[1;32m----> 5\u001b[0m g_area \u001b[38;5;241m=\u001b[39m \u001b[43mcapacity_voltage1\u001b[49m\u001b[38;5;241m.\u001b[39mgroupby(\u001b[38;5;124m\"\u001b[39m\u001b[38;5;124mcycle\u001b[39m\u001b[38;5;124m\"\u001b[39m)\n\u001b[0;32m      6\u001b[0m \u001b[38;5;28;01mfor\u001b[39;00m cycle_number, frame \u001b[38;5;129;01min\u001b[39;00m g_area:\n\u001b[0;32m      7\u001b[0m     ax1\u001b[38;5;241m.\u001b[39mplot(frame\u001b[38;5;241m.\u001b[39mcapacity, frame\u001b[38;5;241m.\u001b[39mvoltage, label\u001b[38;5;241m=\u001b[39m\u001b[38;5;124mf\u001b[39m\u001b[38;5;124m'\u001b[39m\u001b[38;5;124mCycle \u001b[39m\u001b[38;5;132;01m{\u001b[39;00mcycle_number\u001b[38;5;132;01m}\u001b[39;00m\u001b[38;5;124m  \u001b[39m\u001b[38;5;132;01m{\u001b[39;00mbattery01\u001b[38;5;132;01m}\u001b[39;00m\u001b[38;5;124m'\u001b[39m)\n",
      "\u001b[1;31mNameError\u001b[0m: name 'capacity_voltage1' is not defined"
     ]
    },
    {
     "data": {
      "image/png": "[encoded data removed]",
      "text/plain": [
       "<Figure size 640x480 with 1 Axes>"
      ]
     },
     "metadata": {},
     "output_type": "display_data"
    }
   ],
   "source": [
    "#   Note:   This is only for areal capacity.  Overlays of mass capacity can be done, but both together cannot be done \n",
    "#   for multiple samples.   That is, it can be but you will get multiple plot lines.\n",
    "\n",
    "fig, ax1 = plt.subplots()\n",
    "\n",
    "g_area = capacity_voltage1.groupby(\"cycle\")\n",
    "for cycle_number, frame in g_area:\n",
    "    ax1.plot(frame.capacity, frame.voltage, label=f'Cycle {cycle_number}  {battery01}')\n",
    "    \n",
    "g_area = capacity_voltage2.groupby(\"cycle\")\n",
    "for cycle_number, frame in g_area:\n",
    "    ax1.plot(frame.capacity, frame.voltage, label=f'Cycle {cycle_number}  {battery02}')  #   (Battery 2)')\n",
    "\n",
    "ax1.set_xlabel('Capacity Area (mAh/cm^2)')\n",
    "ax1.set_ylabel('Voltage')\n",
    "\n",
    "# ax1.legend(loc='lower left')\n",
    "ax1.legend(fontsize=8, loc='center', bbox_to_anchor=(0.335, 1.08))\n",
    "\n",
    "# optional plot title\n",
    "#  plt.title(f'{battery01} \\nand {battery02}', fontsize=8, loc='right', wrap=True, ha='right')  # Adjust the fontsize as needed\n",
    "\n",
    "ax2.xaxis.set_label_coords(0.5, 0.95)  # Adjust the values to move the label below the x2 axis\n",
    "plt.show()\n"
   ]
  },
  {
   "cell_type": "code",
   "execution_count": null,
   "metadata": {},
   "outputs": [],
   "source": [
    "# Specify the folder path where you want to save the graph\n",
    "save_folder1 = file_path01\n",
    "save_folder2 = file_path02\n",
    "\n",
    "# Construct the full path to save the file in the specified folder\n",
    "file_name_x = os.path.join(file_path01, os.path.basename(cell_1 + cell_2 + '_overlay') + \".jpg\")\n",
    "file_name_x2 = os.path.join(file_path02, os.path.basename(cell_1 + cell_2+ '_overlay') + \".jpg\")\n",
    "\n",
    "# Save the figure without including the folder name\n",
    "fig.savefig(file_name_x, dpi=300)\n",
    "\n",
    "fig.savefig(file_name_x2, dpi=300)\n",
    "\n"
   ]
  },
  {
   "cell_type": "markdown",
   "metadata": {},
   "source": [
    "### Overlay 1,2, 3"
   ]
  },
  {
   "cell_type": "code",
   "execution_count": 96,
   "metadata": {},
   "outputs": [
    {
     "data": {
      "image/png": "[encoded data removed]",
      "text/plain": [
       "<Figure size 640x480 with 1 Axes>"
      ]
     },
     "metadata": {},
     "output_type": "display_data"
    }
   ],
   "source": [
    "fig, ax1 = plt.subplots()\n",
    "\n",
    "g_area = capacity_voltage1.groupby(\"cycle\")\n",
    "for cycle_number, frame in g_area:\n",
    "    ax1.plot(frame.capacity, frame.voltage, label=f'Cycle {cycle_number}  {battery01}')\n",
    "    \n",
    "g_area = capacity_voltage2.groupby(\"cycle\")\n",
    "for cycle_number, frame in g_area:\n",
    "    ax1.plot(frame.capacity, frame.voltage, label=f'Cycle {cycle_number}  {battery02}')  #   (Battery 2)')\n",
    "    \n",
    "g_area = capacity_voltage3.groupby(\"cycle\")\n",
    "for cycle_number, frame in g_area:\n",
    "    ax1.plot(frame.capacity, frame.voltage, label=f'Cycle {cycle_number}  {battery03}')  #   (Battery 3)')\n",
    "\n",
    "ax1.set_xlabel('Capacity Area (mAh/cm^2)')\n",
    "ax1.set_ylabel('Voltage')\n",
    "\n",
    "\n",
    "ax1.legend(fontsize=8, loc='center', bbox_to_anchor=(0.335, 1.08))\n",
    "\n",
    "\n",
    "ax2.xaxis.set_label_coords(0.5, 0.95)  # Adjust the values to move the label below the x2 axis\n",
    "plt.show()\n"
   ]
  },
  {
   "cell_type": "code",
   "execution_count": 11,
   "metadata": {},
   "outputs": [
    {
     "ename": "NameError",
     "evalue": "name 'file_path01' is not defined",
     "output_type": "error",
     "traceback": [
      "\u001b[1;31m---------------------------------------------------------------------------\u001b[0m",
      "\u001b[1;31mNameError\u001b[0m                                 Traceback (most recent call last)",
      "Cell \u001b[1;32mIn[11], line 2\u001b[0m\n\u001b[0;32m      1\u001b[0m \u001b[38;5;66;03m# Specify the folder path where you want to save the graph\u001b[39;00m\n\u001b[1;32m----> 2\u001b[0m save_folder1 \u001b[38;5;241m=\u001b[39m \u001b[43mfile_path01\u001b[49m\n\u001b[0;32m      3\u001b[0m save_folder2 \u001b[38;5;241m=\u001b[39m file_path02\n\u001b[0;32m      5\u001b[0m \u001b[38;5;66;03m# Construct the full path to save the file in the specified folder\u001b[39;00m\n",
      "\u001b[1;31mNameError\u001b[0m: name 'file_path01' is not defined"
     ]
    }
   ],
   "source": [
    "# Specify the folder path where you want to save the graph\n",
    "save_folder1 = file_path01\n",
    "save_folder2 = file_path02\n",
    "\n",
    "# Construct the full path to save the file in the specified folder\n",
    "file_name_123 = os.path.join(file_path01, os.path.basename(cell_1 + cell_2 + cell_3 + '_overlay') + \".jpg\")\n",
    "file_name_123a = os.path.join(file_path02, os.path.basename(cell_1 + cell_2 + cell_3 + '_overlay') + \".jpg\")\n",
    "\n",
    "# Save the figure without including the folder name\n",
    "fig.savefig(file_name_123, dpi=300)\n",
    "\n",
    "fig.savefig(file_name_123a, dpi=300)\n",
    "\n"
   ]
  },
  {
   "cell_type": "markdown",
   "metadata": {},
   "source": []
  },
  {
   "cell_type": "markdown",
   "metadata": {},
   "source": [
    "## battery 04 ##"
   ]
  },
  {
   "cell_type": "markdown",
   "metadata": {},
   "source": [
    "This code was left for expansion for more cells. it was not used in this template."
   ]
  },
  {
   "cell_type": "code",
   "execution_count": null,
   "metadata": {},
   "outputs": [],
   "source": [
    "# Script 1: Plotting voltage versus capacity area\n",
    "fig, ax1 = plt.subplots()\n",
    "\n",
    "# Define a list of colors for each sample\n",
    "colors = ['blue', 'red', 'green', 'orange']  # Add more colors if needed\n",
    "\n",
    "# # Define a list of colors for each cycle\n",
    "# colors = ['b', 'g', 'r', 'c', 'm', 'y', 'k']\n",
    "\n",
    "g_area = capacity_voltage1.groupby(\"cycle\")\n",
    "for i, (cycle_number, frame) in enumerate(g_area):\n",
    "    ax1.plot(frame.capacity, frame.voltage, label=f'Cycle {cycle_number}', color=colors[i % len(colors)])  # Assign colors in a repeating pattern\n",
    "ax1.set_xlabel('Capacity Area (mAh/cm^2)')\n",
    "ax1.set_ylabel('Voltage')\n",
    "ax1.legend()\n",
    "\n",
    "# Create a twin x-axis for capacity mass\n",
    "ax2 = ax1.twiny()\n",
    "\n",
    "# Script 2: Plotting voltage versus capacity mass on the twin x-axis\n",
    "g_mass = capacity_mass2.groupby(\"cycle\")\n",
    "for i, (cycle_number, frame) in enumerate(g_mass):\n",
    "    ax2.plot(frame.capacity, frame.voltage, label=f'Cycle {cycle_number} (Mass)', color=colors[i % len(colors)])  # Assign colors in a repeating pattern\n",
    "ax2.set_xlabel('Capacity Mass (mAh/g)')\n",
    "\n",
    "\n",
    "plt.title(battery01+\"_\"+battery02+\"_\"+battery03, fontsize=8, loc='right')  # Adjust the fontsize as needed\n",
    "\n",
    "# Adjust the position of the x-axis label for ax2\n",
    "ax2.xaxis.set_label_coords(0.5, 0.95)  # Adjust the values to move the label below the x2 axis\n",
    "\n",
    "#  ax2.xaxis.label.set_fontsize(10)  # Adjust the font size as needed\n",
    "\n",
    "# Show the plot\n",
    "plt.show()"
   ]
  },
  {
   "cell_type": "markdown",
   "metadata": {},
   "source": [
    "save plot script and export would go here."
   ]
  },
  {
   "cell_type": "markdown",
   "metadata": {},
   "source": [
    "Cell 5"
   ]
  },
  {
   "cell_type": "code",
   "execution_count": null,
   "metadata": {},
   "outputs": [],
   "source": [
    "# Script 1: Plotting voltage versus capacity area\n",
    "fig, ax1 = plt.subplots()\n",
    "\n",
    "g_area = capacity_voltage5.groupby(\"cycle\")\n",
    "for cycle_number, frame in g_area:\n",
    "    ax1.plot(frame.capacity, frame.voltage, label=f'Cycle {cycle_number}')\n",
    "ax1.set_xlabel('Capacity Area (mAh/cm^2)')\n",
    "ax1.set_ylabel('Voltage')\n",
    "ax1.legend()\n",
    "\n",
    "# Create a twin x-axis for capacity mass\n",
    "ax2 = ax1.twiny()\n",
    "\n",
    "# Script 2: Plotting voltage versus capacity mass on the twin x-axis\n",
    "g_mass = capacity_mass5.groupby(\"cycle\")\n",
    "for cycle_number, frame in g_mass:\n",
    "    ax2.plot(frame.capacity, frame.voltage, label=f'Cycle {cycle_number} (Mass)')\n",
    "ax2.set_xlabel('Capacity Mass (mAh/g)')\n",
    "\n",
    "plt.title(battery05, fontsize=8, loc='right')  # Adjust the fontsize as needed\n",
    "\n",
    "# Adjust the position of the x-axis label for ax2\n",
    "ax2.xaxis.set_label_coords(0.5, 0.95)  # Adjust the values to move the label below the x2 axis\n",
    "\n",
    "#  ax2.xaxis.label.set_fontsize(10)  # Adjust the font size as needed\n",
    "\n",
    "plt.show()"
   ]
  },
  {
   "cell_type": "markdown",
   "metadata": {},
   "source": [
    "save plot script and export would go here."
   ]
  },
  {
   "cell_type": "markdown",
   "metadata": {},
   "source": [
    "Cell 6"
   ]
  },
  {
   "cell_type": "code",
   "execution_count": null,
   "metadata": {},
   "outputs": [],
   "source": [
    "# Script 1: Plotting voltage versus capacity area\n",
    "fig, ax1 = plt.subplots()\n",
    "\n",
    "g_area = capacity_voltage6.groupby(\"cycle\")\n",
    "for cycle_number, frame in g_area:\n",
    "    ax1.plot(frame.capacity, frame.voltage, label=f'Cycle {cycle_number}')\n",
    "ax1.set_xlabel('Capacity Area (mAh/cm^2)')\n",
    "ax1.set_ylabel('Voltage')\n",
    "ax1.legend()\n",
    "\n",
    "# Create a twin x-axis for capacity mass\n",
    "ax2 = ax1.twiny()\n",
    "\n",
    "# Script 2: Plotting voltage versus capacity mass on the twin x-axis\n",
    "g_mass = capacity_mass6.groupby(\"cycle\")\n",
    "for cycle_number, frame in g_mass:\n",
    "    ax2.plot(frame.capacity, frame.voltage, label=f'Cycle {cycle_number} (Mass)')\n",
    "ax2.set_xlabel('Capacity Mass (mAh/g)')\n",
    "\n",
    "plt.title(battery06, fontsize=8, loc='right')  # Adjust the fontsize as needed\n",
    "\n",
    "# Adjust the position of the x-axis label for ax2\n",
    "ax2.xaxis.set_label_coords(0.5, 0.95)  # Adjust the values to move the label below the x2 axis\n",
    "\n",
    "#  ax2.xaxis.label.set_fontsize(10)  # Adjust the font size as needed\n",
    "\n",
    "plt.show()"
   ]
  },
  {
   "cell_type": "markdown",
   "metadata": {},
   "source": [
    "save plot script and export would go here."
   ]
  },
  {
   "cell_type": "markdown",
   "metadata": {},
   "source": [
    "Cell 7"
   ]
  },
  {
   "cell_type": "code",
   "execution_count": null,
   "metadata": {},
   "outputs": [],
   "source": [
    "# Script 1: Plotting voltage versus capacity area\n",
    "fig, ax1 = plt.subplots()\n",
    "\n",
    "g_area = capacity_voltage7.groupby(\"cycle\")\n",
    "for cycle_number, frame in g_area:\n",
    "    ax1.plot(frame.capacity, frame.voltage, label=f'Cycle {cycle_number}')\n",
    "ax1.set_xlabel('Capacity Area (mAh/cm^2)')\n",
    "ax1.set_ylabel('Voltage')\n",
    "ax1.legend()\n",
    "\n",
    "# Create a twin x-axis for capacity mass\n",
    "ax2 = ax1.twiny()\n",
    "\n",
    "# Script 2: Plotting voltage versus capacity mass on the twin x-axis\n",
    "g_mass = capacity_mass7.groupby(\"cycle\")\n",
    "for cycle_number, frame in g_mass:\n",
    "    ax2.plot(frame.capacity, frame.voltage, label=f'Cycle {cycle_number} (Mass)')\n",
    "ax2.set_xlabel('Capacity Mass (mAh/g)')\n",
    "\n",
    "plt.title(battery07, fontsize=8, loc='right')  # Adjust the fontsize as needed\n",
    "\n",
    "# Adjust the position of the x-axis label for ax2\n",
    "ax2.xaxis.set_label_coords(0.5, 0.95)  # Adjust the values to move the label below the x2 axis\n",
    "\n",
    "#  ax2.xaxis.label.set_fontsize(10)  # Adjust the font size as needed\n",
    "\n",
    "plt.show()"
   ]
  },
  {
   "cell_type": "markdown",
   "metadata": {},
   "source": [
    "save plot script and export would go here."
   ]
  },
  {
   "cell_type": "markdown",
   "metadata": {},
   "source": [
    "Cell 8"
   ]
  },
  {
   "cell_type": "code",
   "execution_count": null,
   "metadata": {},
   "outputs": [],
   "source": [
    "# Script 1: Plotting voltage versus capacity area\n",
    "fig, ax1 = plt.subplots()\n",
    "\n",
    "g_area = capacity_voltage8.groupby(\"cycle\")\n",
    "for cycle_number, frame in g_area:\n",
    "    ax1.plot(frame.capacity, frame.voltage, label=f'Cycle {cycle_number}')\n",
    "ax1.set_xlabel('Capacity Area (mAh/cm^2)')\n",
    "ax1.set_ylabel('Voltage')\n",
    "ax1.legend()\n",
    "\n",
    "# Create a twin x-axis for capacity mass\n",
    "ax2 = ax1.twiny()\n",
    "\n",
    "# Script 2: Plotting voltage versus capacity mass on the twin x-axis\n",
    "g_mass = capacity_mass8.groupby(\"cycle\")\n",
    "for cycle_number, frame in g_mass:\n",
    "    ax2.plot(frame.capacity, frame.voltage, label=f'Cycle {cycle_number} (Mass)')\n",
    "ax2.set_xlabel('Capacity Mass (mAh/g)')\n",
    "\n",
    "plt.title(battery08, fontsize=8, loc='right')  # Adjust the fontsize as needed\n",
    "\n",
    "# Adjust the position of the x-axis label for ax2\n",
    "ax2.xaxis.set_label_coords(0.5, 0.95)  # Adjust the values to move the label below the x2 axis\n",
    "\n",
    "#  ax2.xaxis.label.set_fontsize(10)  # Adjust the font size as needed\n",
    "\n",
    "plt.show()"
   ]
  },
  {
   "cell_type": "markdown",
   "metadata": {},
   "source": [
    "save plot script and export would go here."
   ]
  },
  {
   "cell_type": "markdown",
   "metadata": {},
   "source": [
    "Cell 9"
   ]
  },
  {
   "cell_type": "code",
   "execution_count": null,
   "metadata": {},
   "outputs": [],
   "source": [
    "# Script 1: Plotting voltage versus capacity area\n",
    "fig, ax1 = plt.subplots()\n",
    "\n",
    "g_area = capacity_voltage9.groupby(\"cycle\")\n",
    "for cycle_number, frame in g_area:\n",
    "    ax1.plot(frame.capacity, frame.voltage, label=f'Cycle {cycle_number}')\n",
    "ax1.set_xlabel('Capacity Area (mAh/cm^2)')\n",
    "ax1.set_ylabel('Voltage')\n",
    "ax1.legend()\n",
    "\n",
    "# Create a twin x-axis for capacity mass\n",
    "ax2 = ax1.twiny()\n",
    "\n",
    "# Script 2: Plotting voltage versus capacity mass on the twin x-axis\n",
    "g_mass = capacity_mass9.groupby(\"cycle\")\n",
    "for cycle_number, frame in g_mass:\n",
    "    ax2.plot(frame.capacity, frame.voltage, label=f'Cycle {cycle_number} (Mass)')\n",
    "ax2.set_xlabel('Capacity Mass (mAh/g)')\n",
    "\n",
    "plt.title(battery09, fontsize=8, loc='right')  # Adjust the fontsize as needed\n",
    "\n",
    "# Adjust the position of the x-axis label for ax2\n",
    "ax2.xaxis.set_label_coords(0.5, 0.95)  # Adjust the values to move the label below the x2 axis\n",
    "\n",
    "#  ax2.xaxis.label.set_fontsize(10)  # Adjust the font size as needed\n",
    "\n",
    "plt.show()"
   ]
  },
  {
   "cell_type": "markdown",
   "metadata": {},
   "source": [
    "save plot script and export would go here."
   ]
  },
  {
   "cell_type": "markdown",
   "metadata": {},
   "source": [
    "Cell 10"
   ]
  },
  {
   "cell_type": "code",
   "execution_count": null,
   "metadata": {},
   "outputs": [],
   "source": [
    "# Script 1: Plotting voltage versus capacity area\n",
    "fig, ax1 = plt.subplots()\n",
    "\n",
    "g_area = capacity_voltage10.groupby(\"cycle\")\n",
    "for cycle_number, frame in g_area:\n",
    "    ax1.plot(frame.capacity, frame.voltage, label=f'Cycle {cycle_number}')\n",
    "ax1.set_xlabel('Capacity Area (mAh/cm^2)')\n",
    "ax1.set_ylabel('Voltage')\n",
    "ax1.legend()\n",
    "\n",
    "# Create a twin x-axis for capacity mass\n",
    "ax2 = ax1.twiny()\n",
    "\n",
    "# Script 2: Plotting voltage versus capacity mass on the twin x-axis\n",
    "g_mass = capacity_mass10.groupby(\"cycle\")\n",
    "for cycle_number, frame in g_mass:\n",
    "    ax2.plot(frame.capacity, frame.voltage, label=f'Cycle {cycle_number} (Mass)')\n",
    "ax2.set_xlabel('Capacity Mass (mAh/g)')\n",
    "\n",
    "plt.title(battery10, fontsize=8, loc='right')  # Adjust the fontsize as needed\n",
    "\n",
    "# Adjust the position of the x-axis label for ax2\n",
    "ax2.xaxis.set_label_coords(0.5, 0.95)  # Adjust the values to move the label below the x2 axis\n",
    "\n",
    "#  ax2.xaxis.label.set_fontsize(10)  # Adjust the font size as needed\n",
    "\n",
    "plt.show()"
   ]
  },
  {
   "cell_type": "markdown",
   "metadata": {},
   "source": [
    "save plot script and export would go here."
   ]
  }
 ],
 "metadata": {
  "kernelspec": {
   "display_name": "Python 3",
   "language": "python",
   "name": "python3"
  },
  "language_info": {
   "codemirror_mode": {
    "name": "ipython",
    "version": 3
   },
   "file_extension": ".py",
   "mimetype": "text/x-python",
   "name": "python",
   "nbconvert_exporter": "python",
   "pygments_lexer": "ipython3",
   "version": "3.10.4"
  },
  "vscode": {
   "interpreter": {
    "hash": "f3e22577cfd05ccd65f94525b9d550e81327b7f65fda4b27bf071f090be5627b"
   }
  }
 },
 "nbformat": 4,
 "nbformat_minor": 4
}
